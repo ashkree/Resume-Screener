{
 "cells": [
  {
   "cell_type": "code",
   "execution_count": 1,
   "id": "79f9e330",
   "metadata": {},
   "outputs": [],
   "source": [
    "import sys\n",
    "sys.path.append('..')"
   ]
  },
  {
   "cell_type": "code",
   "execution_count": 2,
   "id": "d2297523",
   "metadata": {},
   "outputs": [
    {
     "name": "stdout",
     "output_type": "stream",
     "text": [
      "📥 Loading train/val data...\n",
      "✅ Data loaded:\n",
      "   X_train: (3000, 5000)\n",
      "   X_val: (1200, 5000)\n",
      "   y_train: 3000 samples\n",
      "   y_val: 1200 samples\n",
      "🚨 Loading TEST data - use only for final evaluation!\n",
      "✅ Test data loaded:\n",
      "   X_test: (300, 5000)\n",
      "   y_test: 300 samples\n"
     ]
    }
   ],
   "source": [
    "# Load data\n",
    "from utils import load_train_val_data, load_test_data\n",
    "\n",
    "X_train, X_val, y_train, y_val = load_train_val_data()\n",
    "X_test, y_test, = load_test_data()"
   ]
  },
  {
   "cell_type": "code",
   "execution_count": 3,
   "id": "9045d652",
   "metadata": {},
   "outputs": [],
   "source": [
    "from utils import ModelTrainer\n",
    "\n",
    "# Create trainer (same config as RF)\n",
    "trainer = ModelTrainer(\n",
    "    cv_folds=8,\n",
    "    scoring='f1_weighted', \n",
    "    n_trials=20,\n",
    "    random_state=42,\n",
    "    verbose=True\n",
    ")"
   ]
  },
  {
   "cell_type": "code",
   "execution_count": 4,
   "id": "9d77da71",
   "metadata": {},
   "outputs": [],
   "source": [
    "from utils import ModelEvaluator\n",
    "\n",
    "evaluator = ModelEvaluator()"
   ]
  },
  {
   "cell_type": "markdown",
   "id": "e733717d",
   "metadata": {},
   "source": [
    "# Scaling Experiment"
   ]
  },
  {
   "cell_type": "code",
   "execution_count": null,
   "id": "6e8a3001",
   "metadata": {},
   "outputs": [],
   "source": [
    "from utils.SimpleScaler import SimpleScaler\n",
    "from models.LogisticRegressionModel import LogisticRegressionModel\n",
    "\n",
    "# QUICK SCALING COMPARISON\n",
    "print(\"⚡ SCALING IMPACT TEST\")\n",
    "print(\"=\" * 30)\n",
    "\n",
    "# Test 1: No scaling\n",
    "print(\"\\n🧪 Testing WITHOUT scaling...\")\n",
    "lr_unscaled = LogisticRegressionModel(\n",
    "    solver='lbfgs',  # Changed from liblinear to avoid warnings\n",
    "    max_iter=3000    # Increased iterations\n",
    ")\n",
    "lr_unscaled.name = \"LR_Unscaled\"\n",
    "\n",
    "unscaled_results = trainer.train_model(\n",
    "    model=lr_unscaled,\n",
    "    X_train=X_train,\n",
    "    y_train=y_train,\n",
    "    X_val=X_val,\n",
    "    y_val=y_val,\n",
    "    optimize=False\n",
    ")\n",
    "\n",
    "# Test 2: With scaling\n",
    "\n",
    "print(f\"Data type: {type(X_train)}\")\n",
    "print(f\"Is sparse: {hasattr(X_train, 'sparse') or 'sparse' in str(type(X_train)).lower()}\")\n",
    "\n",
    "# Convert to dense if sparse (this fixes the StandardScaler issue)\n",
    "if hasattr(X_train, 'toarray'):\n",
    "    print(\"Converting sparse matrix to dense...\")\n",
    "    X_train_dense = X_train.toarray()\n",
    "    X_val_dense = X_val.toarray()\n",
    "    X_test_dense = X_test.toarray()\n",
    "else:\n",
    "    X_train_dense = X_train\n",
    "    X_val_dense = X_val\n",
    "    X_test_dense = X_test\n",
    "\n",
    "# Now scale the dense data\n",
    "scaler = SimpleScaler()\n",
    "X_train_scaled, X_val_scaled = scaler.fit_transform_split(X_train_dense, X_val_dense)\n",
    "X_test_scaled = scaler.transform(X_test_dense)\n",
    "\n",
    "lr_scaled = LogisticRegressionModel(\n",
    "    solver='lbfgs',  # Using lbfgs instead of liblinear\n",
    "    max_iter=3000\n",
    ")\n",
    "lr_scaled.name = \"LR_Scaled\"\n",
    "\n",
    "scaled_results = trainer.train_model(\n",
    "    model=lr_scaled,\n",
    "    X_train=X_train_scaled,\n",
    "    y_train=y_train,\n",
    "    X_val=X_val_scaled,\n",
    "    y_val=y_val,\n",
    "    optimize=False\n",
    ")\n",
    "\n",
    "# Compare\n",
    "print(f\"\\n📊 SCALING COMPARISON:\")\n",
    "print(f\"   Unscaled: {unscaled_results['val_accuracy']:.4f}\")\n",
    "print(f\"   Scaled:   {scaled_results['val_accuracy']:.4f}\")\n",
    "print(f\"   Improvement: {scaled_results['val_accuracy'] - unscaled_results['val_accuracy']:+.4f}\")"
   ]
  },
  {
   "cell_type": "code",
   "execution_count": null,
   "id": "f003cf32",
   "metadata": {},
   "outputs": [],
   "source": [
    "import pickle\n",
    "import os\n",
    "\n",
    "# Create directory if it doesn't exist\n",
    "data_path = \"../data/processed/scaled/\"\n",
    "os.makedirs(data_path, exist_ok=True)\n",
    "\n",
    "file_name = f\"scaled_unscaled_data\"\n",
    "\n",
    "unscaled_data = {\n",
    "    \"X_train\" : X_train,\n",
    "    \"y_train\" : y_train,\n",
    "    \"X_val\" : X_val,\n",
    "    \"y_val\" : y_val,\n",
    "    \"X_test\" : X_test,\n",
    "    \"y_test\" : y_test\n",
    "}\n",
    "\n",
    "scaled_data = {\n",
    "    \"X_train\" : X_train_scaled,\n",
    "    \"y_train\" : y_train,\n",
    "    \"X_val\" : X_val_scaled,\n",
    "    \"y_val\" : y_val,\n",
    "    \"X_test\" : X_test_scaled,\n",
    "    \"y_test\" : y_test\n",
    "}\n",
    "\n",
    "\n",
    "# Save best results\n",
    "with open(f'{data_path}{file_name}.pkl', 'wb') as f:\n",
    "    pickle.dump({\n",
    "        'scaled': scaled_data,\n",
    "        'unscaled': unscaled_data\n",
    "    }, f)\n",
    "    \n",
    "print(f\"💾 Results saved to {file_name}.pkl\")"
   ]
  },
  {
   "cell_type": "markdown",
   "id": "1c3809c7",
   "metadata": {},
   "source": [
    "# Model Training"
   ]
  },
  {
   "cell_type": "markdown",
   "id": "7a5d7669",
   "metadata": {},
   "source": [
    "## Load Features"
   ]
  },
  {
   "cell_type": "code",
   "execution_count": 5,
   "id": "dd73d800",
   "metadata": {},
   "outputs": [],
   "source": [
    "import pickle\n",
    "def load_features(filename='scaled_unscaled_data.pkl'):\n",
    "   with open(filename, 'rb') as f:\n",
    "       data = pickle.load(f)\n",
    "   \n",
    "   scaled = data['scaled']\n",
    "   unscaled = data['unscaled']\n",
    "   \n",
    "   return scaled, unscaled\n",
    "\n",
    "# Create directory if it doesn't exist\n",
    "data_path = \"../data/processed/scaled/\"\n",
    "\n",
    "file_name = f\"scaled_unscaled_data\"\n",
    "scaled, unscaled = load_features(filename=f\"{data_path}{file_name}.pkl\")\n",
    "\n",
    "data_name = \"scaled\"\n",
    "X_train = scaled['X_train']\n",
    "X_val = scaled['X_val']\n",
    "X_test = scaled['X_test']"
   ]
  },
  {
   "cell_type": "markdown",
   "id": "7404d305",
   "metadata": {},
   "source": [
    "## Training and Evaluation Functions"
   ]
  },
  {
   "cell_type": "code",
   "execution_count": 6,
   "id": "85074f35",
   "metadata": {},
   "outputs": [],
   "source": [
    "# Training function to standardise outputs for all experiments\n",
    "\n",
    "def train(model, model_name, trainer, X_train, y_train, X_val, y_val, optimize = True, param_space=None):\n",
    "    \n",
    "    model.name = model_name\n",
    "\n",
    "    print(f\"🎯 Training {model_name} with Bayesian Optimization...\")\n",
    "\n",
    "    # Train with comprehensive hyperparameter optimization\n",
    "    training_results = trainer.train_model(\n",
    "        model=model,\n",
    "        X_train=X_train,\n",
    "        y_train=y_train,\n",
    "        X_val=X_val,\n",
    "        y_val=y_val,\n",
    "        param_space=param_space,\n",
    "        optimize=optimize \n",
    "    )\n",
    "\n",
    "    print(f\"\\n🔍 {model_name} Training Results:\")\n",
    "    if training_results['optimization']:\n",
    "        opt = training_results['optimization']\n",
    "        print(f\"   Optimization completed: {opt['n_trials']} trials in {opt['optimization_time']:.1f}s\")\n",
    "        print(f\"   Best CV Score: {opt['best_score']:.4f}\")\n",
    "        print(f\"   Best Parameters: {opt['best_params']}\")\n",
    "\n",
    "    print(f\"   Final CV Score: {training_results['cv_mean']:.4f} ± {training_results['cv_std']:.4f}\")\n",
    "    print(f\"   Train Accuracy: {training_results['train_accuracy']:.4f}\")\n",
    "    print(f\"   Val Accuracy: {training_results['val_accuracy']:.4f}\")\n",
    "    print(f\"   Overfitting Gap: {training_results['train_accuracy'] - training_results['val_accuracy']:.4f}\")\n",
    "\n",
    "    return training_results"
   ]
  },
  {
   "cell_type": "code",
   "execution_count": 7,
   "id": "2733d84e",
   "metadata": {},
   "outputs": [],
   "source": [
    "# evaluation function to standardise model evaluation\n",
    "\n",
    "def evaluate(model, model_name, evaluator, X_train, y_train, X_val, y_val, X_test, y_test):\n",
    "\n",
    "    # Comprehensive evaluation with test set\n",
    "    print(f\"\\n📊 Running comprehensive evaluation...\")\n",
    "    eval_results = evaluator.evaluate_model(\n",
    "        model=model,\n",
    "        X_train=X_train,\n",
    "        y_train=y_train,\n",
    "        X_val=X_val, \n",
    "        y_val=y_val,\n",
    "        X_test=X_test,\n",
    "        y_test=y_test,\n",
    "        model_name=model_name\n",
    "    )\n",
    "\n",
    "    # Print detailed evaluation report\n",
    "    evaluator.print_detailed_report(model_name)\n",
    "\n",
    "    # Plot overfitting analysis across models\n",
    "    evaluator.plot_overfitting_analysis()\n",
    "\n",
    "    # Plot confusion matrix\n",
    "    evaluator.plot_confusion_matrix(model_name)\n",
    "\n",
    "    return eval_results"
   ]
  },
  {
   "cell_type": "code",
   "execution_count": 8,
   "id": "cf8f6f50",
   "metadata": {},
   "outputs": [],
   "source": [
    "import os\n",
    "import pickle\n",
    "\n",
    "# save experiment function to standardise experiment saving\n",
    "experiment_path = \"../models/trained/LogisticRegression/\"\n",
    "\n",
    "def save_experiment(data, filename, dir=experiment_path):\n",
    "    os.makedirs(dir, exist_ok=True)  \n",
    "    with open(f\"{dir}{filename}\", \"wb\") as file:\n",
    "        pickle.dump(data, file)\n",
    "    print(f\"Experiment saved to {dir}{filename}\")\n",
    "    \n"
   ]
  },
  {
   "cell_type": "markdown",
   "id": "35cf8d0e",
   "metadata": {},
   "source": [
    "## Baseline Model"
   ]
  },
  {
   "cell_type": "markdown",
   "id": "6e3d8121",
   "metadata": {},
   "source": [
    "### Baseline Model Training"
   ]
  },
  {
   "cell_type": "code",
   "execution_count": 9,
   "id": "c0b12669",
   "metadata": {},
   "outputs": [
    {
     "name": "stdout",
     "output_type": "stream",
     "text": [
      "🎯 Training Baseline_LR_scaled with Bayesian Optimization...\n",
      "🚀 Training Baseline_LR_scaled...\n",
      "🔧 Fitting Baseline_LR_scaled...\n"
     ]
    },
    {
     "name": "stderr",
     "output_type": "stream",
     "text": [
      "/home/maveron/.conda/envs/304/lib/python3.13/site-packages/sklearn/linear_model/_logistic.py:1288: FutureWarning: Using the 'liblinear' solver for multiclass classification is deprecated. An error will be raised in 1.8. Either use another solver which supports the multinomial loss or wrap the estimator in a OneVsRestClassifier to keep applying a one-versus-rest scheme.\n",
      "  warnings.warn(\n"
     ]
    },
    {
     "name": "stdout",
     "output_type": "stream",
     "text": [
      "✅ Baseline_LR_scaled fitted in 19.82 seconds\n",
      "🔄 Running 8-fold cross-validation...\n"
     ]
    },
    {
     "name": "stderr",
     "output_type": "stream",
     "text": [
      "/home/maveron/.conda/envs/304/lib/python3.13/site-packages/sklearn/linear_model/_logistic.py:1288: FutureWarning: Using the 'liblinear' solver for multiclass classification is deprecated. An error will be raised in 1.8. Either use another solver which supports the multinomial loss or wrap the estimator in a OneVsRestClassifier to keep applying a one-versus-rest scheme.\n",
      "  warnings.warn(\n",
      "/home/maveron/.conda/envs/304/lib/python3.13/site-packages/sklearn/linear_model/_logistic.py:1288: FutureWarning: Using the 'liblinear' solver for multiclass classification is deprecated. An error will be raised in 1.8. Either use another solver which supports the multinomial loss or wrap the estimator in a OneVsRestClassifier to keep applying a one-versus-rest scheme.\n",
      "  warnings.warn(\n",
      "/home/maveron/.conda/envs/304/lib/python3.13/site-packages/sklearn/linear_model/_logistic.py:1288: FutureWarning: Using the 'liblinear' solver for multiclass classification is deprecated. An error will be raised in 1.8. Either use another solver which supports the multinomial loss or wrap the estimator in a OneVsRestClassifier to keep applying a one-versus-rest scheme.\n",
      "  warnings.warn(\n",
      "/home/maveron/.conda/envs/304/lib/python3.13/site-packages/sklearn/linear_model/_logistic.py:1288: FutureWarning: Using the 'liblinear' solver for multiclass classification is deprecated. An error will be raised in 1.8. Either use another solver which supports the multinomial loss or wrap the estimator in a OneVsRestClassifier to keep applying a one-versus-rest scheme.\n",
      "  warnings.warn(\n",
      "/home/maveron/.conda/envs/304/lib/python3.13/site-packages/sklearn/linear_model/_logistic.py:1288: FutureWarning: Using the 'liblinear' solver for multiclass classification is deprecated. An error will be raised in 1.8. Either use another solver which supports the multinomial loss or wrap the estimator in a OneVsRestClassifier to keep applying a one-versus-rest scheme.\n",
      "  warnings.warn(\n",
      "/home/maveron/.conda/envs/304/lib/python3.13/site-packages/sklearn/linear_model/_logistic.py:1288: FutureWarning: Using the 'liblinear' solver for multiclass classification is deprecated. An error will be raised in 1.8. Either use another solver which supports the multinomial loss or wrap the estimator in a OneVsRestClassifier to keep applying a one-versus-rest scheme.\n",
      "  warnings.warn(\n",
      "/home/maveron/.conda/envs/304/lib/python3.13/site-packages/sklearn/linear_model/_logistic.py:1288: FutureWarning: Using the 'liblinear' solver for multiclass classification is deprecated. An error will be raised in 1.8. Either use another solver which supports the multinomial loss or wrap the estimator in a OneVsRestClassifier to keep applying a one-versus-rest scheme.\n",
      "  warnings.warn(\n",
      "/home/maveron/.conda/envs/304/lib/python3.13/site-packages/sklearn/linear_model/_logistic.py:1288: FutureWarning: Using the 'liblinear' solver for multiclass classification is deprecated. An error will be raised in 1.8. Either use another solver which supports the multinomial loss or wrap the estimator in a OneVsRestClassifier to keep applying a one-versus-rest scheme.\n",
      "  warnings.warn(\n"
     ]
    },
    {
     "name": "stdout",
     "output_type": "stream",
     "text": [
      "✅ Baseline_LR_scaled completed in 85.6s\n",
      "   CV: 0.6630 ± 0.0257\n",
      "   Train: 0.9190\n",
      "   Val: 0.7075 (gap: 0.2115)\n",
      "\n",
      "🔍 Baseline_LR_scaled Training Results:\n",
      "   Final CV Score: 0.6630 ± 0.0257\n",
      "   Train Accuracy: 0.9190\n",
      "   Val Accuracy: 0.7075\n",
      "   Overfitting Gap: 0.2115\n"
     ]
    }
   ],
   "source": [
    "from models import LogisticRegressionModel\n",
    "\n",
    "# Create baseline RandomForest with default parameters\n",
    "lr = LogisticRegressionModel(random_state=42\n",
    ")\n",
    "\n",
    "lr_name = f\"Baseline_LR_{data_name}\"\n",
    "\n",
    "lr_train_results = train(model = lr, \n",
    "      model_name = lr_name, \n",
    "      trainer = trainer,\n",
    "      X_train = X_train, \n",
    "      y_train = y_train, \n",
    "      X_val = X_val, \n",
    "      y_val = y_val, \n",
    "      optimize = False)"
   ]
  },
  {
   "cell_type": "markdown",
   "id": "c5316975",
   "metadata": {},
   "source": [
    "### Baseline Model Evaluation"
   ]
  },
  {
   "cell_type": "code",
   "execution_count": 10,
   "id": "b2f658ce",
   "metadata": {},
   "outputs": [
    {
     "name": "stdout",
     "output_type": "stream",
     "text": [
      "\n",
      "📊 Running comprehensive evaluation...\n",
      "📊 Evaluating Baseline_LR_scaled...\n",
      "✅ Evaluation completed for Baseline_LR_scaled\n",
      "   Train Acc: 0.9190, F1: 0.9186\n",
      "   Val Acc: 0.7075, F1: 0.7045 (max gap: 0.2141)\n",
      "   Test Acc: 0.3733, F1: 0.3704\n",
      "\n",
      "📋 DETAILED EVALUATION REPORT: Baseline_LR_scaled\n",
      "============================================================\n",
      "📊 PERFORMANCE SUMMARY:\n",
      "   TRAIN : Acc=0.9190, F1-W=0.9186, F1-M=0.9186\n",
      "   VAL   : Acc=0.7075, F1-W=0.7045, F1-M=0.7045\n",
      "   TEST  : Acc=0.3733, F1-W=0.3704, F1-M=0.3704\n",
      "\n",
      "⚠️  OVERFITTING ANALYSIS:\n",
      "   Severity: severe\n",
      "   Max Gap: 0.2141\n",
      "   accuracy_gap: 0.2115\n",
      "   f1_weighted_gap: 0.2141\n",
      "\n",
      "🎯 PER-CLASS PERFORMANCE (Test Set):\n",
      "   Good Fit    : F1=0.3250, P=0.4333, R=0.2600\n",
      "   No Fit      : F1=0.4179, P=0.4158, R=0.4200\n",
      "   Potential Fit: F1=0.3682, P=0.3165, R=0.4400\n",
      "\n",
      "🔍 FEATURE IMPORTANCE (linear_coef):\n",
      "   Top 5 indices: [  50 4104   48 2873 4947]\n",
      "   Mean coefficient: 0.0420\n",
      "   Std coefficient: 0.0429\n",
      "\n",
      "📊 CLASSIFICATION REPORT SUMMARY:\n",
      "   Macro Avg: F1=0.3704, P=0.3886, R=0.3733\n",
      "   Weighted Avg: F1=0.3704, P=0.3886, R=0.3733\n"
     ]
    },
    {
     "data": {
      "image/png": "[encoded data removed]",
      "text/plain": [
       "<Figure size 1500x600 with 2 Axes>"
      ]
     },
     "metadata": {},
     "output_type": "display_data"
    },
    {
     "data": {
      "image/png": "[encoded data removed]",
      "text/plain": [
       "<Figure size 800x600 with 2 Axes>"
      ]
     },
     "metadata": {},
     "output_type": "display_data"
    },
    {
     "name": "stdout",
     "output_type": "stream",
     "text": [
      "Experiment saved to ../models/trained/LogisticRegression/Baseline_LR_scaled.pkl\n"
     ]
    }
   ],
   "source": [
    "# evaluation function to standardise model evaluation\n",
    "lr_eval_results = evaluate(\n",
    "    model = lr,\n",
    "    model_name = lr_name,\n",
    "    evaluator = evaluator,\n",
    "    X_train = X_train,\n",
    "    y_train = y_train,\n",
    "    X_val = X_val,\n",
    "    y_val = y_val,\n",
    "    X_test = X_test,\n",
    "    y_test = y_test\n",
    ")\n",
    "\n",
    "experiment_name = lr_name\n",
    "\n",
    "lr_experiment = {\n",
    "    \"experiment_name\" : experiment_name,\n",
    "    \"model\" : lr,\n",
    "    \"train_results\" : lr_train_results,\n",
    "    \"eval_results\" : lr_eval_results\n",
    "}\n",
    "\n",
    "save_experiment(lr_experiment, f\"{experiment_name}.pkl\")"
   ]
  },
  {
   "cell_type": "markdown",
   "id": "633fe66a",
   "metadata": {},
   "source": [
    "## Anti Overfitting "
   ]
  },
  {
   "cell_type": "markdown",
   "id": "23c0bb0a",
   "metadata": {},
   "source": [
    "### Anti Overfitting Model Training"
   ]
  },
  {
   "cell_type": "code",
   "execution_count": null,
   "id": "88694d42",
   "metadata": {},
   "outputs": [
    {
     "name": "stderr",
     "output_type": "stream",
     "text": [
      "[I 2025-06-20 18:59:40,636] A new study created in memory with name: no-name-f8ed0016-09c0-4030-8941-d3932f9cb0b6\n"
     ]
    },
    {
     "name": "stdout",
     "output_type": "stream",
     "text": [
      "🎯 Training AntiOverfit_LR_scaled with Bayesian Optimization...\n",
      "🚀 Training AntiOverfit_LR_scaled...\n",
      "🔍 Optimizing AntiOverfit_LR_scaled hyperparameters...\n"
     ]
    },
    {
     "data": {
      "application/vnd.jupyter.widget-view+json": {
       "model_id": "73b30ae85a314c269c7dc56280abeddf",
       "version_major": 2,
       "version_minor": 0
      },
      "text/plain": [
       "  0%|          | 0/20 [00:00<?, ?it/s]"
      ]
     },
     "metadata": {},
     "output_type": "display_data"
    }
   ],
   "source": [
    "# Define parameter spaces for different optimization strategies\n",
    "param_space = {\n",
    "    'C': (0.001, 1.0),           # Strong regularization\n",
    "    'penalty': ['l1', 'l2'],\n",
    "    'solver': ['saga'],          # saga supports l1/l2 + multiclass\n",
    "    'class_weight': ['balanced'],\n",
    "    'max_iter': (2000, 5000)\n",
    "}\n",
    "\n",
    "from models import LogisticRegressionModel\n",
    "\n",
    "# Create baseline RandomForest with default parameters\n",
    "lr = LogisticRegressionModel(random_state=42)\n",
    "\n",
    "lr_name = f\"AntiOverfit_LR_{data_name}\"\n",
    "\n",
    "lr_train_results = train(model = lr, \n",
    "      model_name = lr_name, \n",
    "      trainer = trainer,\n",
    "      X_train = X_train, \n",
    "      y_train = y_train, \n",
    "      X_val = X_val, \n",
    "      y_val = y_val, \n",
    "      optimize = True,\n",
    "      param_space = param_space) "
   ]
  },
  {
   "cell_type": "markdown",
   "id": "b345370a",
   "metadata": {},
   "source": [
    "### Anti Overfitting Model Evaluation"
   ]
  },
  {
   "cell_type": "code",
   "execution_count": null,
   "id": "754b33c3",
   "metadata": {},
   "outputs": [],
   "source": [
    "# evaluation function to standardise model evaluation\n",
    "lr_eval_results = evaluate(\n",
    "    model = lr,\n",
    "    model_name = lr_name,\n",
    "    evaluator = evaluator,\n",
    "    X_train = X_train,\n",
    "    y_train = y_train,\n",
    "    X_val = X_val,\n",
    "    y_val = y_val,\n",
    "    X_test = X_test,\n",
    "    y_test = y_test\n",
    ")\n",
    "\n",
    "experiment_name = lr_name\n",
    "\n",
    "lr_experiment = {\n",
    "    \"experiment_name\" : experiment_name,\n",
    "    \"model\" : lr,\n",
    "    \"train_results\" : lr_train_results,\n",
    "    \"eval_results\" : lr_eval_results\n",
    "}\n",
    "\n",
    "save_experiment(lr_experiment, f\"{experiment_name}.pkl\")"
   ]
  },
  {
   "cell_type": "markdown",
   "id": "a6387616",
   "metadata": {},
   "source": [
    "# Model Comparison"
   ]
  },
  {
   "cell_type": "code",
   "execution_count": null,
   "id": "64475d6c",
   "metadata": {},
   "outputs": [],
   "source": [
    "# Compare all models\n",
    "comparison_df = evaluator.compare_models()"
   ]
  }
 ],
 "metadata": {
  "kernelspec": {
   "display_name": "304",
   "language": "python",
   "name": "python3"
  },
  "language_info": {
   "codemirror_mode": {
    "name": "ipython",
    "version": 3
   },
   "file_extension": ".py",
   "mimetype": "text/x-python",
   "name": "python",
   "nbconvert_exporter": "python",
   "pygments_lexer": "ipython3",
   "version": "3.13.4"
  }
 },
 "nbformat": 4,
 "nbformat_minor": 5
}
