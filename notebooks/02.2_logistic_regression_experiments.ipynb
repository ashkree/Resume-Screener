{
 "cells": [
  {
   "cell_type": "code",
   "execution_count": 1,
   "id": "79f9e330",
   "metadata": {},
   "outputs": [],
   "source": [
    "import sys\n",
    "sys.path.append('..')"
   ]
  },
  {
   "cell_type": "markdown",
   "id": "7fbf825c",
   "metadata": {},
   "source": [
    "# Data Loading"
   ]
  },
  {
   "cell_type": "code",
   "execution_count": 2,
   "id": "5b5428d1",
   "metadata": {},
   "outputs": [
    {
     "name": "stdout",
     "output_type": "stream",
     "text": [
      "binary     train  X shape = (4336, 2),  y len = 4336\n",
      "binary     val    X shape = (1860, 2),  y len = 1860\n",
      "binary     test   X shape = (1714, 2),  y len = 1714\n",
      "multiclass train  X shape = (3237, 2),  y len = 3237\n",
      "multiclass val    X shape = (1389, 2),  y len = 1389\n",
      "multiclass test   X shape = (1332, 2),  y len = 1332\n"
     ]
    }
   ],
   "source": [
    "from pathlib import Path\n",
    "import pandas as pd\n",
    "\n",
    "def load_datasets(data_root: str | Path = \"data\",\n",
    "                  tasks: tuple[str, ...] = (\"binary\", \"multiclass\"),\n",
    "                  splits: tuple[str, ...] = (\"train\", \"val\", \"test\")) -> dict:\n",
    "\n",
    "    data_root = Path(data_root)\n",
    "    datasets  = {}\n",
    "\n",
    "    for task in tasks:\n",
    "        task_dir     = data_root / task\n",
    "        task_dict    = {}\n",
    "\n",
    "        for split in splits:\n",
    "            split_dict = {}\n",
    "            for kind in (\"X\", \"y\"):\n",
    "                file_path = task_dir / f\"{kind}_{split}.pkl\"\n",
    "                split_dict[kind] = pd.read_pickle(file_path)\n",
    "            task_dict[split] = split_dict\n",
    "\n",
    "        datasets[task] = task_dict\n",
    "\n",
    "    return datasets\n",
    "\n",
    "\n",
    "# ── usage ────────────────────────────────────────────────────────\n",
    "datasets = load_datasets(\"../data\")\n",
    "\n",
    "# quick sanity-check\n",
    "for task, splits in datasets.items():\n",
    "    for split, obj in splits.items():\n",
    "        print(f\"{task:<10} {split:<5}  X shape = {obj['X'].shape},  y len = {len(obj['y'])}\")"
   ]
  },
  {
   "cell_type": "markdown",
   "id": "7d11e9d1",
   "metadata": {},
   "source": [
    "# Experiments"
   ]
  },
  {
   "cell_type": "code",
   "execution_count": 3,
   "id": "d740ce01",
   "metadata": {},
   "outputs": [],
   "source": [
    "MODEL_TYPE = \"LogReg\"\n",
    "SEED = 42"
   ]
  },
  {
   "cell_type": "code",
   "execution_count": 4,
   "id": "70707570",
   "metadata": {},
   "outputs": [],
   "source": [
    "def get_datasets(kind: str):\n",
    "    dataset = datasets[kind]\n",
    "    \n",
    "    X_train = dataset[\"train\"][\"X\"]\n",
    "    y_train = dataset[\"train\"][\"y\"]\n",
    "    \n",
    "    X_val = dataset[\"val\"][\"X\"]\n",
    "    y_val = dataset[\"val\"][\"y\"]\n",
    "    \n",
    "    X_test = dataset[\"test\"][\"X\"]\n",
    "    y_test = dataset[\"test\"][\"y\"]\n",
    "\n",
    "    return X_train, y_train, X_val, y_val, X_test, y_test"
   ]
  },
  {
   "cell_type": "markdown",
   "id": "4ae60d6c",
   "metadata": {},
   "source": [
    "## Binary Classification"
   ]
  },
  {
   "cell_type": "code",
   "execution_count": 5,
   "id": "4953c178",
   "metadata": {},
   "outputs": [],
   "source": [
    "from utils import ExperimentManager, Experiment\n",
    "\n",
    "CLASSIFICATION_TYPE = \"binary\"\n",
    "\n",
    "manager = ExperimentManager(f\"../runs/{CLASSIFICATION_TYPE}/{MODEL_TYPE}\")\n",
    "X_train, y_train, X_val, y_val, X_test, y_test = get_datasets(CLASSIFICATION_TYPE)"
   ]
  },
  {
   "cell_type": "markdown",
   "id": "50d334aa",
   "metadata": {},
   "source": [
    "### Baseline with default scikit learn parameters and no optimization"
   ]
  },
  {
   "cell_type": "code",
   "execution_count": 6,
   "id": "3990ba11",
   "metadata": {},
   "outputs": [
    {
     "name": "stdout",
     "output_type": "stream",
     "text": [
      "\n",
      "=== Running Experiment: Baseline binary LogReg ===\n",
      "\n",
      "--- Validation Evaluation ---\n",
      "Accuracy: 0.6812\n",
      "Macro F1: 0.6802\n",
      "Micro F1: 0.6812\n",
      "\n",
      "Detailed Classification Report:\n",
      "                 precision     recall   f1-score    support\n",
      "\n",
      "       Good Fit     0.6628     0.7376     0.6982        930\n",
      "         No Fit     0.7042     0.6247     0.6621        930\n",
      "\n",
      "       accuracy                           0.6812       1860\n",
      "      macro avg     0.6835     0.6812     0.6802       1860\n",
      "   weighted avg     0.6835     0.6812     0.6802       1860\n",
      "\n",
      "Confusion Matrix:\n",
      "[[686 244]\n",
      " [349 581]]\n",
      "\n",
      "--- Test Evaluation ---\n",
      "Accuracy: 0.6004\n",
      "Macro F1: 0.6000\n",
      "Micro F1: 0.6004\n",
      "\n",
      "Detailed Classification Report:\n",
      "                 precision     recall   f1-score    support\n",
      "\n",
      "       Good Fit     0.5951     0.6278     0.6110        857\n",
      "         No Fit     0.6062     0.5729     0.5891        857\n",
      "\n",
      "       accuracy                           0.6004       1714\n",
      "      macro avg     0.6007     0.6004     0.6000       1714\n",
      "   weighted avg     0.6007     0.6004     0.6000       1714\n",
      "\n",
      "Confusion Matrix:\n",
      "[[538 319]\n",
      " [366 491]]\n",
      "\n",
      "✅ Experiment 'Baseline binary LogReg' completed and logged.\n",
      "\n"
     ]
    },
    {
     "data": {
      "text/plain": [
       "<utils.ExperimentManger.Experiment at 0x7ff9d7d3dfd0>"
      ]
     },
     "execution_count": 6,
     "metadata": {},
     "output_type": "execute_result"
    }
   ],
   "source": [
    "from sklearn.pipeline import Pipeline\n",
    "from sklearn.linear_model import LogisticRegression\n",
    "from sklearn.preprocessing import FunctionTransformer\n",
    "from sklearn.feature_extraction.text import TfidfVectorizer\n",
    "\n",
    "def combine_text(X):\n",
    "    X = X.copy() \n",
    "\n",
    "    combined = X[\"resume_text\"].astype(str) + \" [SEP] \" + X[\"job_description_text\"].astype(str)\n",
    "\n",
    "    return combined.values\n",
    "\n",
    "# Pipeline\n",
    "pipe = Pipeline([\n",
    "    (\"join\", FunctionTransformer(combine_text, validate=False)),\n",
    "    ('tfidf', TfidfVectorizer()),  # Convert text to numeric\n",
    "    ('clf', LogisticRegression(random_state=42))  # Logistic Regression model\n",
    "])\n",
    "\n",
    "def pipeline_factory(params):\n",
    "    # Since we’re not using params here, we just return the static pipeline\n",
    "    return pipe\n",
    "\n",
    "experiment = Experiment(\n",
    "    name=f\"Baseline {CLASSIFICATION_TYPE} {MODEL_TYPE}\",\n",
    "    description=f\"{CLASSIFICATION_TYPE} {MODEL_TYPE} with TF-IDF and no hyperparameter tuning.\",\n",
    "    pipeline_factory=pipeline_factory,\n",
    "    splits=[(X_val, y_val), (X_test, y_test)],\n",
    "    split_names=[\"Validation\", \"Test\"]\n",
    ")\n",
    "\n",
    "manager.run_experiment(experiment, train_data=(X_train, y_train))"
   ]
  },
  {
   "cell_type": "markdown",
   "id": "8a266d93",
   "metadata": {},
   "source": [
    "## Multiclass Classification"
   ]
  },
  {
   "cell_type": "code",
   "execution_count": 7,
   "id": "e8f8b850",
   "metadata": {},
   "outputs": [],
   "source": [
    "from utils import ExperimentManager, Experiment\n",
    "\n",
    "CLASSIFICATION_TYPE = \"multiclass\"\n",
    "\n",
    "manager = ExperimentManager(f\"../runs/{CLASSIFICATION_TYPE}/{MODEL_TYPE}\")\n",
    "X_train, y_train, X_val, y_val, X_test, y_test = get_datasets(CLASSIFICATION_TYPE)"
   ]
  },
  {
   "cell_type": "markdown",
   "id": "5d9c8281",
   "metadata": {},
   "source": [
    "### Basline with default scikit learn parameters and no optimization"
   ]
  },
  {
   "cell_type": "code",
   "execution_count": 8,
   "id": "d11a763b",
   "metadata": {},
   "outputs": [
    {
     "name": "stdout",
     "output_type": "stream",
     "text": [
      "\n",
      "=== Running Experiment: Baseline multiclass LogReg ===\n",
      "\n",
      "--- Validation Evaluation ---\n",
      "Accuracy: 0.6048\n",
      "Macro F1: 0.5994\n",
      "Micro F1: 0.6048\n",
      "\n",
      "Detailed Classification Report:\n",
      "                 precision     recall   f1-score    support\n",
      "\n",
      "       Good Fit     0.6341     0.7559     0.6897        463\n",
      "         No Fit     0.5991     0.5875     0.5932        463\n",
      "  Potential Fit     0.5692     0.4708     0.5154        463\n",
      "\n",
      "       accuracy                           0.6048       1389\n",
      "      macro avg     0.6008     0.6048     0.5994       1389\n",
      "   weighted avg     0.6008     0.6048     0.5994       1389\n",
      "\n",
      "Confusion Matrix:\n",
      "[[350  60  53]\n",
      " [116 218 129]\n",
      " [ 86 105 272]]\n",
      "\n",
      "--- Test Evaluation ---\n",
      "Accuracy: 0.4324\n",
      "Macro F1: 0.4317\n",
      "Micro F1: 0.4324\n",
      "\n",
      "Detailed Classification Report:\n",
      "                 precision     recall   f1-score    support\n",
      "\n",
      "       Good Fit     0.4559     0.4077     0.4304        444\n",
      "         No Fit     0.3982     0.3964     0.3973        444\n",
      "  Potential Fit     0.4442     0.4932     0.4674        444\n",
      "\n",
      "       accuracy                           0.4324       1332\n",
      "      macro avg     0.4328     0.4324     0.4317       1332\n",
      "   weighted avg     0.4328     0.4324     0.4317       1332\n",
      "\n",
      "Confusion Matrix:\n",
      "[[181 111 152]\n",
      " [111 219 114]\n",
      " [105 163 176]]\n",
      "\n",
      "✅ Experiment 'Baseline multiclass LogReg' completed and logged.\n",
      "\n"
     ]
    },
    {
     "data": {
      "text/plain": [
       "<utils.ExperimentManger.Experiment at 0x7ff9d7d11760>"
      ]
     },
     "execution_count": 8,
     "metadata": {},
     "output_type": "execute_result"
    }
   ],
   "source": [
    "from sklearn.pipeline import Pipeline\n",
    "from sklearn.linear_model import LogisticRegression\n",
    "from sklearn.preprocessing import FunctionTransformer\n",
    "from sklearn.feature_extraction.text import TfidfVectorizer\n",
    "\n",
    "def combine_text(X):\n",
    "    X = X.copy() \n",
    "\n",
    "    combined = X[\"resume_text\"].astype(str) + \" [SEP] \" + X[\"job_description_text\"].astype(str)\n",
    "\n",
    "    return combined.values\n",
    "\n",
    "# Pipeline\n",
    "pipe = Pipeline([\n",
    "    (\"join\", FunctionTransformer(combine_text, validate=False)),\n",
    "    ('tfidf', TfidfVectorizer()),  # Convert text to numeric\n",
    "    ('clf', LogisticRegression(random_state=42))  # Logistic Regression model\n",
    "])\n",
    "\n",
    "def pipeline_factory(params):\n",
    "    # Since we’re not using params here, we just return the static pipeline\n",
    "    return pipe\n",
    "\n",
    "experiment = Experiment(\n",
    "    name=f\"Baseline {CLASSIFICATION_TYPE} {MODEL_TYPE}\",\n",
    "    description=f\"{CLASSIFICATION_TYPE} {MODEL_TYPE} with TF-IDF and no hyperparameter tuning.\",\n",
    "    pipeline_factory=pipeline_factory,\n",
    "    splits=[(X_val, y_val), (X_test, y_test)],\n",
    "    split_names=[\"Validation\", \"Test\"]\n",
    ")\n",
    "\n",
    "manager.run_experiment(experiment, train_data=(X_train, y_train))"
   ]
  }
 ],
 "metadata": {
  "kernelspec": {
   "display_name": "304",
   "language": "python",
   "name": "python3"
  },
  "language_info": {
   "codemirror_mode": {
    "name": "ipython",
    "version": 3
   },
   "file_extension": ".py",
   "mimetype": "text/x-python",
   "name": "python",
   "nbconvert_exporter": "python",
   "pygments_lexer": "ipython3",
   "version": "3.13.4"
  }
 },
 "nbformat": 4,
 "nbformat_minor": 5
}
