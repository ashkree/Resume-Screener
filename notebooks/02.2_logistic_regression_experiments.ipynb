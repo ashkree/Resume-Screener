{
 "cells": [
  {
   "cell_type": "code",
   "execution_count": 1,
   "id": "79f9e330",
   "metadata": {},
   "outputs": [],
   "source": [
    "import sys\n",
    "sys.path.append('..')"
   ]
  },
  {
   "cell_type": "markdown",
   "id": "7fbf825c",
   "metadata": {},
   "source": [
    "# Data Loading"
   ]
  },
  {
   "cell_type": "code",
   "execution_count": 2,
   "id": "5b5428d1",
   "metadata": {},
   "outputs": [
    {
     "name": "stdout",
     "output_type": "stream",
     "text": [
      "binary     train  X shape = (4336, 2),  y len = 4336\n",
      "binary     val    X shape = (1860, 2),  y len = 1860\n",
      "binary     test   X shape = (1714, 2),  y len = 1714\n",
      "multiclass train  X shape = (3237, 2),  y len = 3237\n",
      "multiclass val    X shape = (1389, 2),  y len = 1389\n",
      "multiclass test   X shape = (1332, 2),  y len = 1332\n"
     ]
    }
   ],
   "source": [
    "from pathlib import Path\n",
    "import pandas as pd\n",
    "\n",
    "def load_datasets(data_root: str | Path = \"data\",\n",
    "                  tasks: tuple[str, ...] = (\"binary\", \"multiclass\"),\n",
    "                  splits: tuple[str, ...] = (\"train\", \"val\", \"test\")) -> dict:\n",
    "\n",
    "    data_root = Path(data_root)\n",
    "    datasets  = {}\n",
    "\n",
    "    for task in tasks:\n",
    "        task_dir     = data_root / task\n",
    "        task_dict    = {}\n",
    "\n",
    "        for split in splits:\n",
    "            split_dict = {}\n",
    "            for kind in (\"X\", \"y\"):\n",
    "                file_path = task_dir / f\"{kind}_{split}.pkl\"\n",
    "                split_dict[kind] = pd.read_pickle(file_path)\n",
    "            task_dict[split] = split_dict\n",
    "\n",
    "        datasets[task] = task_dict\n",
    "\n",
    "    return datasets\n",
    "\n",
    "\n",
    "# ── usage ────────────────────────────────────────────────────────\n",
    "datasets = load_datasets(\"../data\")\n",
    "\n",
    "# quick sanity-check\n",
    "for task, splits in datasets.items():\n",
    "    for split, obj in splits.items():\n",
    "        print(f\"{task:<10} {split:<5}  X shape = {obj['X'].shape},  y len = {len(obj['y'])}\")"
   ]
  },
  {
   "cell_type": "markdown",
   "id": "7d11e9d1",
   "metadata": {},
   "source": [
    "# Experiments"
   ]
  },
  {
   "cell_type": "code",
   "execution_count": 3,
   "id": "8a64cb00",
   "metadata": {},
   "outputs": [],
   "source": [
    "from sklearn.pipeline import Pipeline\n",
    "from sklearn.linear_model import LogisticRegression\n",
    "from sklearn.preprocessing import FunctionTransformer\n",
    "from sklearn.feature_extraction.text import TfidfVectorizer"
   ]
  },
  {
   "cell_type": "code",
   "execution_count": 4,
   "id": "d740ce01",
   "metadata": {},
   "outputs": [],
   "source": [
    "MODEL_TYPE = \"LogReg\"\n",
    "SEED = 42"
   ]
  },
  {
   "cell_type": "code",
   "execution_count": 5,
   "id": "70707570",
   "metadata": {},
   "outputs": [],
   "source": [
    "def get_datasets(kind: str):\n",
    "    dataset = datasets[kind]\n",
    "    \n",
    "    X_train = dataset[\"train\"][\"X\"]\n",
    "    y_train = dataset[\"train\"][\"y\"]\n",
    "    \n",
    "    X_val = dataset[\"val\"][\"X\"]\n",
    "    y_val = dataset[\"val\"][\"y\"]\n",
    "    \n",
    "    X_test = dataset[\"test\"][\"X\"]\n",
    "    y_test = dataset[\"test\"][\"y\"]\n",
    "\n",
    "    return X_train, y_train, X_val, y_val, X_test, y_test\n",
    "\n",
    "\n",
    "def combine_text(X):\n",
    "    X = X.copy() \n",
    "\n",
    "    combined = X[\"resume_text\"].astype(str) + \" [SEP] \" + X[\"job_description_text\"].astype(str)\n",
    "\n",
    "    return combined.values"
   ]
  },
  {
   "cell_type": "markdown",
   "id": "4ae60d6c",
   "metadata": {},
   "source": [
    "## Binary Classification"
   ]
  },
  {
   "cell_type": "code",
   "execution_count": 6,
   "id": "4953c178",
   "metadata": {},
   "outputs": [],
   "source": [
    "from utils import ExperimentManager, Experiment\n",
    "\n",
    "CLASSIFICATION_TYPE = \"binary\"\n",
    "\n",
    "manager = ExperimentManager(f\"../runs/{CLASSIFICATION_TYPE}/{MODEL_TYPE}\")\n",
    "X_train, y_train, X_val, y_val, X_test, y_test = get_datasets(CLASSIFICATION_TYPE)"
   ]
  },
  {
   "cell_type": "markdown",
   "id": "50d334aa",
   "metadata": {},
   "source": [
    "### Baseline with default scikit learn parameters and no optimization"
   ]
  },
  {
   "cell_type": "code",
   "execution_count": 7,
   "id": "3990ba11",
   "metadata": {},
   "outputs": [
    {
     "name": "stdout",
     "output_type": "stream",
     "text": [
      "\n",
      "=== Running Experiment: Baseline binary LogReg ===\n",
      "🏋️ Training model...\n",
      "📊 Evaluating model performance...\n",
      "\n",
      "--- Validation Evaluation ---\n",
      "Accuracy: 0.6812\n",
      "Macro F1: 0.6802\n",
      "Micro F1: 0.6812\n",
      "\n",
      "Detailed Classification Report:\n",
      "                 precision     recall   f1-score    support\n",
      "\n",
      "       Good Fit     0.6628     0.7376     0.6982        930\n",
      "         No Fit     0.7042     0.6247     0.6621        930\n",
      "\n",
      "       accuracy                           0.6812       1860\n",
      "      macro avg     0.6835     0.6812     0.6802       1860\n",
      "   weighted avg     0.6835     0.6812     0.6802       1860\n",
      "\n",
      "Confusion Matrix:\n",
      "[[686 244]\n",
      " [349 581]]\n",
      "\n",
      "--- Test Evaluation ---\n",
      "Accuracy: 0.6004\n",
      "Macro F1: 0.6000\n",
      "Micro F1: 0.6004\n",
      "\n",
      "Detailed Classification Report:\n",
      "                 precision     recall   f1-score    support\n",
      "\n",
      "       Good Fit     0.5951     0.6278     0.6110        857\n",
      "         No Fit     0.6062     0.5729     0.5891        857\n",
      "\n",
      "       accuracy                           0.6004       1714\n",
      "      macro avg     0.6007     0.6004     0.6000       1714\n",
      "   weighted avg     0.6007     0.6004     0.6000       1714\n",
      "\n",
      "Confusion Matrix:\n",
      "[[538 319]\n",
      " [366 491]]\n",
      "📈 Creating visualizations...\n",
      "💾 Finalizing experiment...\n",
      "\n",
      "✅ Experiment 'Baseline binary LogReg' completed and logged.\n",
      "\n"
     ]
    },
    {
     "data": {
      "text/plain": [
       "<utils.ExperimentManger.Experiment at 0x7f4e261ab830>"
      ]
     },
     "execution_count": 7,
     "metadata": {},
     "output_type": "execute_result"
    }
   ],
   "source": [
    "# Pipeline\n",
    "pipe = Pipeline([\n",
    "    (\"join\", FunctionTransformer(combine_text, validate=False)),\n",
    "    ('tfidf', TfidfVectorizer()),  # Convert text to numeric\n",
    "    ('clf', LogisticRegression(random_state=42))  # Logistic Regression model\n",
    "])\n",
    "\n",
    "def pipeline_factory(params):\n",
    "    # Since we’re not using params here, we just return the static pipeline\n",
    "    return pipe\n",
    "\n",
    "experiment = Experiment(\n",
    "    name=f\"Baseline {CLASSIFICATION_TYPE} {MODEL_TYPE}\",\n",
    "    description=f\"{CLASSIFICATION_TYPE} {MODEL_TYPE} with TF-IDF and no hyperparameter tuning.\",\n",
    "    pipeline_factory=pipeline_factory,\n",
    "    splits=[(X_val, y_val), (X_test, y_test)],\n",
    "    split_names=[\"Validation\", \"Test\"]\n",
    ")\n",
    "\n",
    "manager.run_experiment(experiment, train_data=(X_train, y_train))"
   ]
  },
  {
   "cell_type": "markdown",
   "id": "03b37ee7",
   "metadata": {},
   "source": [
    "### Optimized Logistic Regression Experiment"
   ]
  },
  {
   "cell_type": "markdown",
   "id": "4328176c",
   "metadata": {},
   "source": [
    "A comperehensive parameter space"
   ]
  },
  {
   "cell_type": "code",
   "execution_count": 7,
   "id": "8d2699c2",
   "metadata": {},
   "outputs": [],
   "source": [
    "# CHANGE: Remove the tuple conversion (new ModelTrainer handles this)\n",
    "def param_space(trial):\n",
    "    \"\"\"Define hyperparameter search space for TF-IDF + Logistic Regression\"\"\"\n",
    "    \n",
    "    params = {\n",
    "        'tfidf__ngram_range': trial.suggest_categorical('tfidf__ngram_range', \n",
    "                                                       [(1, 1), (1, 2), (1, 3)]),  # Direct tuples\n",
    "        'tfidf__max_features': trial.suggest_categorical('tfidf__max_features',\n",
    "                                                        [5000, 10000, 15000, 20000]),\n",
    "        'tfidf__min_df': trial.suggest_categorical('tfidf__min_df', [2, 5, 0.01]),\n",
    "        'tfidf__max_df': trial.suggest_categorical('tfidf__max_df', [0.85, 0.9, 0.95]),\n",
    "        'tfidf__sublinear_tf': trial.suggest_categorical('tfidf__sublinear_tf', [True, False]),\n",
    "        'tfidf__stop_words': trial.suggest_categorical('tfidf__stop_words', ['english', None]),\n",
    "        'clf__C': trial.suggest_float('clf__C', 0.01, 100.0, log=True),\n",
    "        'clf__penalty': trial.suggest_categorical('clf__penalty', ['l1', 'l2']),\n",
    "        'clf__solver': trial.suggest_categorical('clf__solver', ['liblinear', 'saga']),\n",
    "        'clf__class_weight': trial.suggest_categorical('clf__class_weight', [None, 'balanced']),\n",
    "        'clf__max_iter': trial.suggest_categorical('clf__max_iter', [200, 500, 1000]),\n",
    "    }\n",
    "    return params"
   ]
  },
  {
   "cell_type": "code",
   "execution_count": 8,
   "id": "3a97cb24",
   "metadata": {},
   "outputs": [],
   "source": [
    "def pipeline_factory(params):\n",
    "    \"\"\"Create pipeline with hyperparameters applied\"\"\"\n",
    "    \n",
    "    # Create base pipeline\n",
    "    pipe = Pipeline([\n",
    "        (\"join\", FunctionTransformer(combine_text, validate=False)),\n",
    "        ('tfidf', TfidfVectorizer()),\n",
    "        ('clf', LogisticRegression(random_state=SEED))\n",
    "    ])\n",
    "    \n",
    "    # Apply parameters using set_params if any parameters are provided\n",
    "    if params:\n",
    "        pipe.set_params(**params)\n",
    "    \n",
    "    return pipe"
   ]
  },
  {
   "cell_type": "code",
   "execution_count": 10,
   "id": "78a82584",
   "metadata": {},
   "outputs": [],
   "source": [
    "optuna_kwargs = {\n",
    "    \"n_trials\": 2,        # Increase from 5 to 20 for better optimization\n",
    "    \"cv_folds\": 5,         # Reduce from 10 to 5 for faster training\n",
    "    \"scoring\": \"accuracy\",\n",
    "    \"random_state\": SEED\n",
    "}"
   ]
  },
  {
   "cell_type": "code",
   "execution_count": null,
   "id": "899459a0",
   "metadata": {},
   "outputs": [
    {
     "name": "stdout",
     "output_type": "stream",
     "text": [
      "\n",
      "=== Running Experiment: Optimizaed binary classification LogReg model ===\n",
      "🏋️ Training model...\n"
     ]
    },
    {
     "name": "stderr",
     "output_type": "stream",
     "text": [
      "Hyperparameter Optimization:   0%|                                                             | 0/2 [00:00<?, ?trial/s][I 2025-07-08 18:49:04,140] A new study created in memory with name: no-name-ceaa8ac1-93cc-4607-a017-1fe806df6712\n",
      "/home/maveron/.conda/envs/304/lib/python3.12/site-packages/optuna/distributions.py:518: UserWarning: Choices for a categorical distribution should be a tuple of None, bool, int, float and str for persistent storage but contains (1, 1) which is of type tuple.\n",
      "  warnings.warn(message)\n",
      "/home/maveron/.conda/envs/304/lib/python3.12/site-packages/optuna/distributions.py:518: UserWarning: Choices for a categorical distribution should be a tuple of None, bool, int, float and str for persistent storage but contains (1, 2) which is of type tuple.\n",
      "  warnings.warn(message)\n",
      "/home/maveron/.conda/envs/304/lib/python3.12/site-packages/optuna/distributions.py:518: UserWarning: Choices for a categorical distribution should be a tuple of None, bool, int, float and str for persistent storage but contains (1, 3) which is of type tuple.\n",
      "  warnings.warn(message)\n"
     ]
    }
   ],
   "source": [
    "experiment = Experiment(\n",
    "    name=f\"Optimizaed {CLASSIFICATION_TYPE} classification {MODEL_TYPE} model\",\n",
    "    description=f\"{CLASSIFICATION_TYPE} {MODEL_TYPE} with TF-IDF and {MODEL_TYPE} hyperparameter tuning using a comprehensive parameter space.\",\n",
    "    pipeline_factory=pipeline_factory,\n",
    "    splits=[(X_val, y_val), (X_test, y_test)],\n",
    "    param_space=param_space,\n",
    "    split_names=[\"Validation\", \"Test\"]\n",
    ")\n",
    "\n",
    "manager.run_experiment(experiment, train_data=(X_train, y_train), **optuna_kwargs)"
   ]
  },
  {
   "cell_type": "markdown",
   "id": "8a266d93",
   "metadata": {},
   "source": [
    "## Multiclass Classification"
   ]
  },
  {
   "cell_type": "code",
   "execution_count": 12,
   "id": "e8f8b850",
   "metadata": {},
   "outputs": [],
   "source": [
    "from utils import ExperimentManager, Experiment\n",
    "\n",
    "CLASSIFICATION_TYPE = \"multiclass\"\n",
    "\n",
    "manager = ExperimentManager(f\"../runs/{CLASSIFICATION_TYPE}/{MODEL_TYPE}\")\n",
    "X_train, y_train, X_val, y_val, X_test, y_test = get_datasets(CLASSIFICATION_TYPE)"
   ]
  },
  {
   "cell_type": "markdown",
   "id": "5d9c8281",
   "metadata": {},
   "source": [
    "### Basline with default scikit learn parameters and no optimization"
   ]
  },
  {
   "cell_type": "code",
   "execution_count": 13,
   "id": "d11a763b",
   "metadata": {},
   "outputs": [
    {
     "name": "stdout",
     "output_type": "stream",
     "text": [
      "\n",
      "=== Running Experiment: Baseline multiclass LogReg ===\n",
      "🏋️ Training model...\n",
      "📊 Evaluating model performance...\n",
      "\n",
      "--- Validation Evaluation ---\n",
      "Accuracy: 0.6048\n",
      "Macro F1: 0.5994\n",
      "Micro F1: 0.6048\n",
      "\n",
      "Detailed Classification Report:\n",
      "                 precision     recall   f1-score    support\n",
      "\n",
      "       Good Fit     0.6341     0.7559     0.6897        463\n",
      "         No Fit     0.5991     0.5875     0.5932        463\n",
      "  Potential Fit     0.5692     0.4708     0.5154        463\n",
      "\n",
      "       accuracy                           0.6048       1389\n",
      "      macro avg     0.6008     0.6048     0.5994       1389\n",
      "   weighted avg     0.6008     0.6048     0.5994       1389\n",
      "\n",
      "Confusion Matrix:\n",
      "[[350  60  53]\n",
      " [116 218 129]\n",
      " [ 86 105 272]]\n",
      "\n",
      "--- Test Evaluation ---\n",
      "Accuracy: 0.4324\n",
      "Macro F1: 0.4317\n",
      "Micro F1: 0.4324\n",
      "\n",
      "Detailed Classification Report:\n",
      "                 precision     recall   f1-score    support\n",
      "\n",
      "       Good Fit     0.4559     0.4077     0.4304        444\n",
      "         No Fit     0.3982     0.3964     0.3973        444\n",
      "  Potential Fit     0.4442     0.4932     0.4674        444\n",
      "\n",
      "       accuracy                           0.4324       1332\n",
      "      macro avg     0.4328     0.4324     0.4317       1332\n",
      "   weighted avg     0.4328     0.4324     0.4317       1332\n",
      "\n",
      "Confusion Matrix:\n",
      "[[181 111 152]\n",
      " [111 219 114]\n",
      " [105 163 176]]\n",
      "📈 Creating visualizations...\n",
      "💾 Finalizing experiment...\n",
      "\n",
      "✅ Experiment 'Baseline multiclass LogReg' completed and logged.\n",
      "\n"
     ]
    },
    {
     "data": {
      "text/plain": [
       "<utils.ExperimentManger.Experiment at 0x7f4e264afd70>"
      ]
     },
     "execution_count": 13,
     "metadata": {},
     "output_type": "execute_result"
    }
   ],
   "source": [
    "from sklearn.pipeline import Pipeline\n",
    "from sklearn.linear_model import LogisticRegression\n",
    "from sklearn.preprocessing import FunctionTransformer\n",
    "from sklearn.feature_extraction.text import TfidfVectorizer\n",
    "\n",
    "def combine_text(X):\n",
    "    X = X.copy() \n",
    "\n",
    "    combined = X[\"resume_text\"].astype(str) + \" [SEP] \" + X[\"job_description_text\"].astype(str)\n",
    "\n",
    "    return combined.values\n",
    "\n",
    "# Pipeline\n",
    "pipe = Pipeline([\n",
    "    (\"join\", FunctionTransformer(combine_text, validate=False)),\n",
    "    ('tfidf', TfidfVectorizer()),  # Convert text to numeric\n",
    "    ('clf', LogisticRegression(random_state=42))  # Logistic Regression model\n",
    "])\n",
    "\n",
    "def pipeline_factory(params):\n",
    "    # Since we’re not using params here, we just return the static pipeline\n",
    "    return pipe\n",
    "\n",
    "experiment = Experiment(\n",
    "    name=f\"Baseline {CLASSIFICATION_TYPE} {MODEL_TYPE}\",\n",
    "    description=f\"{CLASSIFICATION_TYPE} {MODEL_TYPE} with TF-IDF and no hyperparameter tuning.\",\n",
    "    pipeline_factory=pipeline_factory,\n",
    "    splits=[(X_val, y_val), (X_test, y_test)],\n",
    "    split_names=[\"Validation\", \"Test\"]\n",
    ")\n",
    "\n",
    "manager.run_experiment(experiment, train_data=(X_train, y_train))"
   ]
  }
 ],
 "metadata": {
  "kernelspec": {
   "display_name": "304",
   "language": "python",
   "name": "python3"
  },
  "language_info": {
   "codemirror_mode": {
    "name": "ipython",
    "version": 3
   },
   "file_extension": ".py",
   "mimetype": "text/x-python",
   "name": "python",
   "nbconvert_exporter": "python",
   "pygments_lexer": "ipython3",
   "version": "3.12.11"
  }
 },
 "nbformat": 4,
 "nbformat_minor": 5
}
