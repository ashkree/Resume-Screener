{
 "cells": [
  {
   "cell_type": "code",
   "execution_count": 1,
   "id": "79f9e330",
   "metadata": {},
   "outputs": [],
   "source": [
    "import sys\n",
    "sys.path.append('..')"
   ]
  },
  {
   "cell_type": "markdown",
   "id": "7fbf825c",
   "metadata": {},
   "source": [
    "# Data Loading"
   ]
  },
  {
   "cell_type": "code",
   "execution_count": 2,
   "id": "5b5428d1",
   "metadata": {},
   "outputs": [
    {
     "name": "stdout",
     "output_type": "stream",
     "text": [
      "binary     train  X shape = (4336, 2),  y len = 4336\n",
      "binary     val    X shape = (1860, 2),  y len = 1860\n",
      "binary     test   X shape = (1714, 2),  y len = 1714\n",
      "multiclass train  X shape = (3237, 2),  y len = 3237\n",
      "multiclass val    X shape = (1389, 2),  y len = 1389\n",
      "multiclass test   X shape = (1332, 2),  y len = 1332\n"
     ]
    }
   ],
   "source": [
    "from pathlib import Path\n",
    "import pandas as pd\n",
    "\n",
    "def load_datasets(data_root: str | Path = \"data\",\n",
    "                  tasks: tuple[str, ...] = (\"binary\", \"multiclass\"),\n",
    "                  splits: tuple[str, ...] = (\"train\", \"val\", \"test\")) -> dict:\n",
    "\n",
    "    data_root = Path(data_root)\n",
    "    datasets  = {}\n",
    "\n",
    "    for task in tasks:\n",
    "        task_dir     = data_root / task\n",
    "        task_dict    = {}\n",
    "\n",
    "        for split in splits:\n",
    "            split_dict = {}\n",
    "            for kind in (\"X\", \"y\"):\n",
    "                file_path = task_dir / f\"{kind}_{split}.pkl\"\n",
    "                split_dict[kind] = pd.read_pickle(file_path)\n",
    "            task_dict[split] = split_dict\n",
    "\n",
    "        datasets[task] = task_dict\n",
    "\n",
    "    return datasets\n",
    "\n",
    "\n",
    "# ── usage ────────────────────────────────────────────────────────\n",
    "datasets = load_datasets(\"../data\")\n",
    "\n",
    "# quick sanity-check\n",
    "for task, splits in datasets.items():\n",
    "    for split, obj in splits.items():\n",
    "        print(f\"{task:<10} {split:<5}  X shape = {obj['X'].shape},  y len = {len(obj['y'])}\")"
   ]
  },
  {
   "cell_type": "markdown",
   "id": "7d11e9d1",
   "metadata": {},
   "source": [
    "# Experiments"
   ]
  },
  {
   "cell_type": "code",
   "execution_count": 3,
   "id": "8a64cb00",
   "metadata": {},
   "outputs": [],
   "source": [
    "from sklearn.pipeline import Pipeline\n",
    "from sklearn.linear_model import LogisticRegression\n",
    "from sklearn.preprocessing import FunctionTransformer\n",
    "from sklearn.feature_extraction.text import TfidfVectorizer"
   ]
  },
  {
   "cell_type": "code",
   "execution_count": 4,
   "id": "d740ce01",
   "metadata": {},
   "outputs": [],
   "source": [
    "MODEL_TYPE = \"LogReg\"\n",
    "SEED = 42"
   ]
  },
  {
   "cell_type": "code",
   "execution_count": 5,
   "id": "70707570",
   "metadata": {},
   "outputs": [],
   "source": [
    "def get_datasets(kind: str):\n",
    "    dataset = datasets[kind]\n",
    "    \n",
    "    X_train = dataset[\"train\"][\"X\"]\n",
    "    y_train = dataset[\"train\"][\"y\"]\n",
    "    \n",
    "    X_val = dataset[\"val\"][\"X\"]\n",
    "    y_val = dataset[\"val\"][\"y\"]\n",
    "    \n",
    "    X_test = dataset[\"test\"][\"X\"]\n",
    "    y_test = dataset[\"test\"][\"y\"]\n",
    "\n",
    "    return X_train, y_train, X_val, y_val, X_test, y_test\n",
    "\n",
    "\n",
    "def combine_text(X):\n",
    "    X = X.copy() \n",
    "\n",
    "    combined = X[\"resume_text\"].astype(str) + \" [SEP] \" + X[\"job_description_text\"].astype(str)\n",
    "\n",
    "    return combined.values"
   ]
  },
  {
   "cell_type": "markdown",
   "id": "4ae60d6c",
   "metadata": {},
   "source": [
    "## Binary Classification"
   ]
  },
  {
   "cell_type": "code",
   "execution_count": 6,
   "id": "4953c178",
   "metadata": {},
   "outputs": [],
   "source": [
    "from utils import ExperimentManager, Experiment\n",
    "\n",
    "CLASSIFICATION_TYPE = \"binary\"\n",
    "\n",
    "manager = ExperimentManager(f\"../runs/{CLASSIFICATION_TYPE}/{MODEL_TYPE}\", [\"Fit\", \"Not Fit\"])\n",
    "X_train, y_train, X_val, y_val, X_test, y_test = get_datasets(CLASSIFICATION_TYPE)\n",
    "\n",
    "splits = ((X_train, y_train), (X_val, y_val), (X_test, y_test))"
   ]
  },
  {
   "cell_type": "markdown",
   "id": "50d334aa",
   "metadata": {},
   "source": [
    "### Baseline with default scikit learn parameters and no optimization"
   ]
  },
  {
   "cell_type": "code",
   "execution_count": 7,
   "id": "3990ba11",
   "metadata": {},
   "outputs": [
    {
     "name": "stdout",
     "output_type": "stream",
     "text": [
      "\n",
      "=== Running Experiment: Baseline binary LogReg ===\n",
      "\n",
      "============================================================\n",
      "🎯 TEST SET EVALUATION RESULTS\n",
      "============================================================\n",
      "\n",
      "📊 OVERVIEW\n",
      "   Test Samples: 1,714\n",
      "   Classes: 2\n",
      "   Overall Accuracy: 0.6004\n",
      "\n",
      "🎯 MAIN PERFORMANCE METRICS\n",
      "   Macro F1:     0.6000\n",
      "   Micro F1:     0.6004\n",
      "   Weighted F1:  0.6000\n",
      "\n",
      "📈 PRECISION/RECALL SUMMARY\n",
      "   Macro    - P: 0.6007  R: 0.6004\n",
      "   Micro    - P: 0.6004  R: 0.6004\n",
      "   Weighted - P: 0.6007  R: 0.6004\n",
      "\n",
      "📋 DETAILED CLASSIFICATION REPORT\n",
      "   Class             Precision     Recall   F1-Score    Support\n",
      "   ---------------- ---------- ---------- ---------- ----------\n",
      "   Fit                  0.5951     0.6278     0.6110        857\n",
      "   Not Fit              0.6062     0.5729     0.5891        857\n",
      "   ---------------- ---------- ---------- ---------- ----------\n",
      "   macro avg            0.6007     0.6004     0.6000       1714\n",
      "   weighted avg         0.6007     0.6004     0.6000       1714\n",
      "\n",
      "🔢 CONFUSION MATRIX\n",
      "   Rows: True Labels, Columns: Predicted Labels\n",
      "   Predicted →\n",
      "   True ↓        Fit  Not Fit \n",
      "   Fit           538      319 \n",
      "   Not Fit       366      491 \n",
      "\n",
      "============================================================\n",
      "💾 Finalizing experiment...\n",
      "\n",
      "✅ Experiment 'Baseline binary LogReg' completed and logged.\n",
      "\n"
     ]
    },
    {
     "data": {
      "text/plain": [
       "<utils.ExperimentManger.Experiment at 0x7f718a88e9f0>"
      ]
     },
     "execution_count": 7,
     "metadata": {},
     "output_type": "execute_result"
    }
   ],
   "source": [
    "# Pipeline\n",
    "pipe = Pipeline([\n",
    "    (\"join\", FunctionTransformer(combine_text, validate=False)),\n",
    "    ('tfidf', TfidfVectorizer()),  # Convert text to numeric\n",
    "    ('clf', LogisticRegression(random_state=42))  # Logistic Regression model\n",
    "])\n",
    "\n",
    "def pipeline_factory(params):\n",
    "    # Since we’re not using params here, we just return the static pipeline\n",
    "    return pipe\n",
    "\n",
    "experiment = Experiment(\n",
    "    name=f\"Baseline {CLASSIFICATION_TYPE} {MODEL_TYPE}\",\n",
    "    description=f\"{CLASSIFICATION_TYPE} {MODEL_TYPE} with TF-IDF and no hyperparameter tuning.\",\n",
    "    pipeline_factory=pipeline_factory\n",
    ")\n",
    "\n",
    "manager.run_experiment(experiment, splits=splits)"
   ]
  },
  {
   "cell_type": "markdown",
   "id": "03b37ee7",
   "metadata": {},
   "source": [
    "### Optimized L1 penalty parameter space"
   ]
  },
  {
   "cell_type": "code",
   "execution_count": 7,
   "id": "8d2699c2",
   "metadata": {},
   "outputs": [],
   "source": [
    "def moderate_l1_param_space(trial):\n",
    "    \"\"\"\n",
    "    Moderate parameter space focused on L1 (Lasso) regularization\n",
    "    Good for feature selection and sparse models\n",
    "    \"\"\"\n",
    "    params = {\n",
    "        # TF-IDF: More options\n",
    "        'tfidf__ngram_range': trial.suggest_categorical('tfidf__ngram_range', \n",
    "                                                      [(1, 1), (1, 2), (1, 3), (2, 2), (2, 3)]),\n",
    "        'tfidf__max_features': trial.suggest_categorical('tfidf__max_features', \n",
    "                                                       [5000, 10000, 15000, 20000, 25000]),\n",
    "        'tfidf__min_df': trial.suggest_categorical('tfidf__min_df', [1, 2, 3, 5, 0.01]),\n",
    "        'tfidf__max_df': trial.suggest_categorical('tfidf__max_df', [0.8, 0.85, 0.9, 0.95]),\n",
    "        'tfidf__sublinear_tf': trial.suggest_categorical('tfidf__sublinear_tf', [True, False]),\n",
    "        'tfidf__stop_words': trial.suggest_categorical('tfidf__stop_words', ['english', None]),\n",
    "        'tfidf__use_idf': trial.suggest_categorical('tfidf__use_idf', [True, False]),\n",
    "        'tfidf__norm': trial.suggest_categorical('tfidf__norm', ['l1', 'l2', None]),\n",
    "        \n",
    "        # Logistic Regression: L1 penalty specific\n",
    "        'clf__penalty': 'l1',  # Fixed to L1\n",
    "        'clf__C': trial.suggest_float('clf__C', 0.01, 100.0, log=True),\n",
    "        'clf__solver': trial.suggest_categorical('clf__solver', ['liblinear', 'saga']),  # Only L1-compatible solvers\n",
    "        'clf__class_weight': trial.suggest_categorical('clf__class_weight', [None, 'balanced']),\n",
    "        'clf__max_iter': trial.suggest_categorical('clf__max_iter', [500, 1000, 2000]),\n",
    "        'clf__random_state': 42\n",
    "    }\n",
    "    \n",
    "    return params"
   ]
  },
  {
   "cell_type": "code",
   "execution_count": 8,
   "id": "3a97cb24",
   "metadata": {},
   "outputs": [],
   "source": [
    "def pipeline_factory(params):\n",
    "    \"\"\"Create pipeline with hyperparameters applied\"\"\"\n",
    "    \n",
    "    # Create base pipeline\n",
    "    pipe = Pipeline([\n",
    "        (\"join\", FunctionTransformer(combine_text, validate=False)),\n",
    "        ('tfidf', TfidfVectorizer()),\n",
    "        ('clf', LogisticRegression(random_state=SEED))\n",
    "    ])\n",
    "    \n",
    "    # Apply parameters using set_params if any parameters are provided\n",
    "    if params:\n",
    "        pipe.set_params(**params)\n",
    "    \n",
    "    return pipe"
   ]
  },
  {
   "cell_type": "code",
   "execution_count": 9,
   "id": "78a82584",
   "metadata": {},
   "outputs": [],
   "source": [
    "optuna_kwargs = {\n",
    "    \"n_trials\": 10,        # Increase from 5 to 20 for better optimization\n",
    "    \"cv_folds\": 5,         # Reduce from 10 to 5 for faster training\n",
    "    \"scoring\": \"accuracy\",\n",
    "    \"random_state\": SEED,\n",
    "    \"optimise\":True\n",
    "}"
   ]
  },
  {
   "cell_type": "code",
   "execution_count": 10,
   "id": "899459a0",
   "metadata": {},
   "outputs": [
    {
     "name": "stdout",
     "output_type": "stream",
     "text": [
      "\n",
      "=== Running Experiment: Optimized model LogReg model with L1 penalty ===\n"
     ]
    },
    {
     "name": "stderr",
     "output_type": "stream",
     "text": [
      "Hyperparameter Optimization (Custom Val Split):   0%|                                         | 0/10 [00:00<?, ?trial/s][I 2025-07-10 12:41:51,623] A new study created in memory with name: no-name-144aa387-4e6e-4b91-a3c9-c5a1120cb88d\n",
      "/home/maveron/.conda/envs/304/lib/python3.12/site-packages/optuna/distributions.py:518: UserWarning: Choices for a categorical distribution should be a tuple of None, bool, int, float and str for persistent storage but contains (1, 1) which is of type tuple.\n",
      "  warnings.warn(message)\n",
      "/home/maveron/.conda/envs/304/lib/python3.12/site-packages/optuna/distributions.py:518: UserWarning: Choices for a categorical distribution should be a tuple of None, bool, int, float and str for persistent storage but contains (1, 2) which is of type tuple.\n",
      "  warnings.warn(message)\n",
      "/home/maveron/.conda/envs/304/lib/python3.12/site-packages/optuna/distributions.py:518: UserWarning: Choices for a categorical distribution should be a tuple of None, bool, int, float and str for persistent storage but contains (1, 3) which is of type tuple.\n",
      "  warnings.warn(message)\n",
      "/home/maveron/.conda/envs/304/lib/python3.12/site-packages/optuna/distributions.py:518: UserWarning: Choices for a categorical distribution should be a tuple of None, bool, int, float and str for persistent storage but contains (2, 2) which is of type tuple.\n",
      "  warnings.warn(message)\n",
      "/home/maveron/.conda/envs/304/lib/python3.12/site-packages/optuna/distributions.py:518: UserWarning: Choices for a categorical distribution should be a tuple of None, bool, int, float and str for persistent storage but contains (2, 3) which is of type tuple.\n",
      "  warnings.warn(message)\n",
      "Hyperparameter Optimization (Custom Val Split):  10%| | 1/10 [00:12<01:49, 12.12s/trial, Train: 0.5000 | Val: 0.5000 | B[I 2025-07-10 12:42:03,746] Trial 0 finished with value: 0.5 and parameters: {'tfidf__ngram_range': (2, 3), 'tfidf__max_features': 10000, 'tfidf__min_df': 5, 'tfidf__max_df': 0.8, 'tfidf__sublinear_tf': True, 'tfidf__stop_words': 'english', 'tfidf__use_idf': True, 'tfidf__norm': 'l1', 'clf__C': 0.01711449083472073, 'clf__solver': 'liblinear', 'clf__class_weight': None, 'clf__max_iter': 1000}. Best is trial 0 with value: 0.5.\n",
      "/home/maveron/.conda/envs/304/lib/python3.12/site-packages/optuna/distributions.py:518: UserWarning: Choices for a categorical distribution should be a tuple of None, bool, int, float and str for persistent storage but contains (1, 1) which is of type tuple.\n",
      "  warnings.warn(message)\n",
      "/home/maveron/.conda/envs/304/lib/python3.12/site-packages/optuna/distributions.py:518: UserWarning: Choices for a categorical distribution should be a tuple of None, bool, int, float and str for persistent storage but contains (1, 2) which is of type tuple.\n",
      "  warnings.warn(message)\n",
      "/home/maveron/.conda/envs/304/lib/python3.12/site-packages/optuna/distributions.py:518: UserWarning: Choices for a categorical distribution should be a tuple of None, bool, int, float and str for persistent storage but contains (1, 3) which is of type tuple.\n",
      "  warnings.warn(message)\n",
      "/home/maveron/.conda/envs/304/lib/python3.12/site-packages/optuna/distributions.py:518: UserWarning: Choices for a categorical distribution should be a tuple of None, bool, int, float and str for persistent storage but contains (2, 2) which is of type tuple.\n",
      "  warnings.warn(message)\n",
      "/home/maveron/.conda/envs/304/lib/python3.12/site-packages/optuna/distributions.py:518: UserWarning: Choices for a categorical distribution should be a tuple of None, bool, int, float and str for persistent storage but contains (2, 3) which is of type tuple.\n",
      "  warnings.warn(message)\n",
      "/home/maveron/.conda/envs/304/lib/python3.12/site-packages/sklearn/linear_model/_sag.py:348: ConvergenceWarning: The max_iter was reached which means the coef_ did not converge\n",
      "  warnings.warn(\n",
      "/home/maveron/.conda/envs/304/lib/python3.12/site-packages/sklearn/linear_model/_sag.py:348: ConvergenceWarning: The max_iter was reached which means the coef_ did not converge\n",
      "  warnings.warn(\n",
      "Hyperparameter Optimization (Custom Val Split):  20%|▏| 2/10 [01:05<04:50, 36.37s/trial, Train: 0.7315 | Val: 0.6758 | B[I 2025-07-10 12:42:57,090] Trial 1 finished with value: 0.6758064516129032 and parameters: {'tfidf__ngram_range': (2, 3), 'tfidf__max_features': 15000, 'tfidf__min_df': 1, 'tfidf__max_df': 0.8, 'tfidf__sublinear_tf': True, 'tfidf__stop_words': 'english', 'tfidf__use_idf': True, 'tfidf__norm': 'l1', 'clf__C': 59.59188495654239, 'clf__solver': 'saga', 'clf__class_weight': 'balanced', 'clf__max_iter': 500}. Best is trial 1 with value: 0.6758064516129032.\n",
      "/home/maveron/.conda/envs/304/lib/python3.12/site-packages/optuna/distributions.py:518: UserWarning: Choices for a categorical distribution should be a tuple of None, bool, int, float and str for persistent storage but contains (1, 1) which is of type tuple.\n",
      "  warnings.warn(message)\n",
      "/home/maveron/.conda/envs/304/lib/python3.12/site-packages/optuna/distributions.py:518: UserWarning: Choices for a categorical distribution should be a tuple of None, bool, int, float and str for persistent storage but contains (1, 2) which is of type tuple.\n",
      "  warnings.warn(message)\n",
      "/home/maveron/.conda/envs/304/lib/python3.12/site-packages/optuna/distributions.py:518: UserWarning: Choices for a categorical distribution should be a tuple of None, bool, int, float and str for persistent storage but contains (1, 3) which is of type tuple.\n",
      "  warnings.warn(message)\n",
      "/home/maveron/.conda/envs/304/lib/python3.12/site-packages/optuna/distributions.py:518: UserWarning: Choices for a categorical distribution should be a tuple of None, bool, int, float and str for persistent storage but contains (2, 2) which is of type tuple.\n",
      "  warnings.warn(message)\n",
      "/home/maveron/.conda/envs/304/lib/python3.12/site-packages/optuna/distributions.py:518: UserWarning: Choices for a categorical distribution should be a tuple of None, bool, int, float and str for persistent storage but contains (2, 3) which is of type tuple.\n",
      "  warnings.warn(message)\n",
      "Hyperparameter Optimization (Custom Val Split):  30%|▎| 3/10 [01:12<02:41, 23.12s/trial, Train: 0.7645 | Val: 0.7118 | B[I 2025-07-10 12:43:04,433] Trial 2 finished with value: 0.7118279569892473 and parameters: {'tfidf__ngram_range': (1, 1), 'tfidf__max_features': 15000, 'tfidf__min_df': 0.01, 'tfidf__max_df': 0.85, 'tfidf__sublinear_tf': False, 'tfidf__stop_words': None, 'tfidf__use_idf': True, 'tfidf__norm': 'l1', 'clf__C': 77.31325556227725, 'clf__solver': 'liblinear', 'clf__class_weight': 'balanced', 'clf__max_iter': 500}. Best is trial 2 with value: 0.7118279569892473.\n",
      "/home/maveron/.conda/envs/304/lib/python3.12/site-packages/optuna/distributions.py:518: UserWarning: Choices for a categorical distribution should be a tuple of None, bool, int, float and str for persistent storage but contains (1, 1) which is of type tuple.\n",
      "  warnings.warn(message)\n",
      "/home/maveron/.conda/envs/304/lib/python3.12/site-packages/optuna/distributions.py:518: UserWarning: Choices for a categorical distribution should be a tuple of None, bool, int, float and str for persistent storage but contains (1, 2) which is of type tuple.\n",
      "  warnings.warn(message)\n",
      "/home/maveron/.conda/envs/304/lib/python3.12/site-packages/optuna/distributions.py:518: UserWarning: Choices for a categorical distribution should be a tuple of None, bool, int, float and str for persistent storage but contains (1, 3) which is of type tuple.\n",
      "  warnings.warn(message)\n",
      "/home/maveron/.conda/envs/304/lib/python3.12/site-packages/optuna/distributions.py:518: UserWarning: Choices for a categorical distribution should be a tuple of None, bool, int, float and str for persistent storage but contains (2, 2) which is of type tuple.\n",
      "  warnings.warn(message)\n",
      "/home/maveron/.conda/envs/304/lib/python3.12/site-packages/optuna/distributions.py:518: UserWarning: Choices for a categorical distribution should be a tuple of None, bool, int, float and str for persistent storage but contains (2, 3) which is of type tuple.\n",
      "  warnings.warn(message)\n",
      "Hyperparameter Optimization (Custom Val Split):  40%|▍| 4/10 [01:30<02:04, 20.82s/trial, Train: 0.5000 | Val: 0.5000 | B[I 2025-07-10 12:43:21,744] Trial 3 finished with value: 0.5 and parameters: {'tfidf__ngram_range': (1, 3), 'tfidf__max_features': 25000, 'tfidf__min_df': 5, 'tfidf__max_df': 0.95, 'tfidf__sublinear_tf': True, 'tfidf__stop_words': None, 'tfidf__use_idf': False, 'tfidf__norm': 'l1', 'clf__C': 1.117914833798458, 'clf__solver': 'liblinear', 'clf__class_weight': None, 'clf__max_iter': 500}. Best is trial 2 with value: 0.7118279569892473.\n",
      "/home/maveron/.conda/envs/304/lib/python3.12/site-packages/optuna/distributions.py:518: UserWarning: Choices for a categorical distribution should be a tuple of None, bool, int, float and str for persistent storage but contains (1, 1) which is of type tuple.\n",
      "  warnings.warn(message)\n",
      "/home/maveron/.conda/envs/304/lib/python3.12/site-packages/optuna/distributions.py:518: UserWarning: Choices for a categorical distribution should be a tuple of None, bool, int, float and str for persistent storage but contains (1, 2) which is of type tuple.\n",
      "  warnings.warn(message)\n",
      "/home/maveron/.conda/envs/304/lib/python3.12/site-packages/optuna/distributions.py:518: UserWarning: Choices for a categorical distribution should be a tuple of None, bool, int, float and str for persistent storage but contains (1, 3) which is of type tuple.\n",
      "  warnings.warn(message)\n",
      "/home/maveron/.conda/envs/304/lib/python3.12/site-packages/optuna/distributions.py:518: UserWarning: Choices for a categorical distribution should be a tuple of None, bool, int, float and str for persistent storage but contains (2, 2) which is of type tuple.\n",
      "  warnings.warn(message)\n",
      "/home/maveron/.conda/envs/304/lib/python3.12/site-packages/optuna/distributions.py:518: UserWarning: Choices for a categorical distribution should be a tuple of None, bool, int, float and str for persistent storage but contains (2, 3) which is of type tuple.\n",
      "  warnings.warn(message)\n",
      "/home/maveron/.conda/envs/304/lib/python3.12/site-packages/sklearn/linear_model/_sag.py:348: ConvergenceWarning: The max_iter was reached which means the coef_ did not converge\n",
      "  warnings.warn(\n",
      "/home/maveron/.conda/envs/304/lib/python3.12/site-packages/sklearn/linear_model/_sag.py:348: ConvergenceWarning: The max_iter was reached which means the coef_ did not converge\n",
      "  warnings.warn(\n",
      "Hyperparameter Optimization (Custom Val Split):  50%|▌| 5/10 [01:52<01:46, 21.22s/trial, Train: 0.6079 | Val: 0.6113 | B[I 2025-07-10 12:43:43,670] Trial 4 finished with value: 0.6112903225806452 and parameters: {'tfidf__ngram_range': (2, 2), 'tfidf__max_features': 15000, 'tfidf__min_df': 3, 'tfidf__max_df': 0.95, 'tfidf__sublinear_tf': True, 'tfidf__stop_words': None, 'tfidf__use_idf': False, 'tfidf__norm': 'l1', 'clf__C': 11.42039597146704, 'clf__solver': 'saga', 'clf__class_weight': None, 'clf__max_iter': 500}. Best is trial 2 with value: 0.7118279569892473.\n",
      "/home/maveron/.conda/envs/304/lib/python3.12/site-packages/optuna/distributions.py:518: UserWarning: Choices for a categorical distribution should be a tuple of None, bool, int, float and str for persistent storage but contains (1, 1) which is of type tuple.\n",
      "  warnings.warn(message)\n",
      "/home/maveron/.conda/envs/304/lib/python3.12/site-packages/optuna/distributions.py:518: UserWarning: Choices for a categorical distribution should be a tuple of None, bool, int, float and str for persistent storage but contains (1, 2) which is of type tuple.\n",
      "  warnings.warn(message)\n",
      "/home/maveron/.conda/envs/304/lib/python3.12/site-packages/optuna/distributions.py:518: UserWarning: Choices for a categorical distribution should be a tuple of None, bool, int, float and str for persistent storage but contains (1, 3) which is of type tuple.\n",
      "  warnings.warn(message)\n",
      "/home/maveron/.conda/envs/304/lib/python3.12/site-packages/optuna/distributions.py:518: UserWarning: Choices for a categorical distribution should be a tuple of None, bool, int, float and str for persistent storage but contains (2, 2) which is of type tuple.\n",
      "  warnings.warn(message)\n",
      "/home/maveron/.conda/envs/304/lib/python3.12/site-packages/optuna/distributions.py:518: UserWarning: Choices for a categorical distribution should be a tuple of None, bool, int, float and str for persistent storage but contains (2, 3) which is of type tuple.\n",
      "  warnings.warn(message)\n",
      "Hyperparameter Optimization (Custom Val Split):  60%|▌| 6/10 [02:06<01:16, 19.03s/trial, Train: 0.5630 | Val: 0.5688 | B[I 2025-07-10 12:43:58,460] Trial 5 finished with value: 0.5688172043010753 and parameters: {'tfidf__ngram_range': (2, 3), 'tfidf__max_features': 20000, 'tfidf__min_df': 3, 'tfidf__max_df': 0.8, 'tfidf__sublinear_tf': True, 'tfidf__stop_words': None, 'tfidf__use_idf': False, 'tfidf__norm': None, 'clf__C': 0.012314573148274622, 'clf__solver': 'liblinear', 'clf__class_weight': None, 'clf__max_iter': 2000}. Best is trial 2 with value: 0.7118279569892473.\n",
      "/home/maveron/.conda/envs/304/lib/python3.12/site-packages/optuna/distributions.py:518: UserWarning: Choices for a categorical distribution should be a tuple of None, bool, int, float and str for persistent storage but contains (1, 1) which is of type tuple.\n",
      "  warnings.warn(message)\n",
      "/home/maveron/.conda/envs/304/lib/python3.12/site-packages/optuna/distributions.py:518: UserWarning: Choices for a categorical distribution should be a tuple of None, bool, int, float and str for persistent storage but contains (1, 2) which is of type tuple.\n",
      "  warnings.warn(message)\n",
      "/home/maveron/.conda/envs/304/lib/python3.12/site-packages/optuna/distributions.py:518: UserWarning: Choices for a categorical distribution should be a tuple of None, bool, int, float and str for persistent storage but contains (1, 3) which is of type tuple.\n",
      "  warnings.warn(message)\n",
      "/home/maveron/.conda/envs/304/lib/python3.12/site-packages/optuna/distributions.py:518: UserWarning: Choices for a categorical distribution should be a tuple of None, bool, int, float and str for persistent storage but contains (2, 2) which is of type tuple.\n",
      "  warnings.warn(message)\n",
      "/home/maveron/.conda/envs/304/lib/python3.12/site-packages/optuna/distributions.py:518: UserWarning: Choices for a categorical distribution should be a tuple of None, bool, int, float and str for persistent storage but contains (2, 3) which is of type tuple.\n",
      "  warnings.warn(message)\n",
      "Hyperparameter Optimization (Custom Val Split):  70%|▋| 7/10 [02:21<00:52, 17.47s/trial, Train: 0.6222 | Val: 0.6124 | B[I 2025-07-10 12:44:12,706] Trial 6 finished with value: 0.6123655913978494 and parameters: {'tfidf__ngram_range': (1, 3), 'tfidf__max_features': 20000, 'tfidf__min_df': 5, 'tfidf__max_df': 0.95, 'tfidf__sublinear_tf': False, 'tfidf__stop_words': 'english', 'tfidf__use_idf': True, 'tfidf__norm': 'l1', 'clf__C': 12.992032821866392, 'clf__solver': 'liblinear', 'clf__class_weight': 'balanced', 'clf__max_iter': 1000}. Best is trial 2 with value: 0.7118279569892473.\n",
      "/home/maveron/.conda/envs/304/lib/python3.12/site-packages/optuna/distributions.py:518: UserWarning: Choices for a categorical distribution should be a tuple of None, bool, int, float and str for persistent storage but contains (1, 1) which is of type tuple.\n",
      "  warnings.warn(message)\n",
      "/home/maveron/.conda/envs/304/lib/python3.12/site-packages/optuna/distributions.py:518: UserWarning: Choices for a categorical distribution should be a tuple of None, bool, int, float and str for persistent storage but contains (1, 2) which is of type tuple.\n",
      "  warnings.warn(message)\n",
      "/home/maveron/.conda/envs/304/lib/python3.12/site-packages/optuna/distributions.py:518: UserWarning: Choices for a categorical distribution should be a tuple of None, bool, int, float and str for persistent storage but contains (1, 3) which is of type tuple.\n",
      "  warnings.warn(message)\n",
      "/home/maveron/.conda/envs/304/lib/python3.12/site-packages/optuna/distributions.py:518: UserWarning: Choices for a categorical distribution should be a tuple of None, bool, int, float and str for persistent storage but contains (2, 2) which is of type tuple.\n",
      "  warnings.warn(message)\n",
      "/home/maveron/.conda/envs/304/lib/python3.12/site-packages/optuna/distributions.py:518: UserWarning: Choices for a categorical distribution should be a tuple of None, bool, int, float and str for persistent storage but contains (2, 3) which is of type tuple.\n",
      "  warnings.warn(message)\n",
      "Hyperparameter Optimization (Custom Val Split):  80%|▊| 8/10 [02:38<00:34, 17.32s/trial, Train: 0.5000 | Val: 0.5000 | B[I 2025-07-10 12:44:29,716] Trial 7 finished with value: 0.5 and parameters: {'tfidf__ngram_range': (1, 3), 'tfidf__max_features': 5000, 'tfidf__min_df': 1, 'tfidf__max_df': 0.85, 'tfidf__sublinear_tf': True, 'tfidf__stop_words': None, 'tfidf__use_idf': False, 'tfidf__norm': 'l2', 'clf__C': 0.06649906146875058, 'clf__solver': 'saga', 'clf__class_weight': None, 'clf__max_iter': 500}. Best is trial 2 with value: 0.7118279569892473.\n",
      "/home/maveron/.conda/envs/304/lib/python3.12/site-packages/optuna/distributions.py:518: UserWarning: Choices for a categorical distribution should be a tuple of None, bool, int, float and str for persistent storage but contains (1, 1) which is of type tuple.\n",
      "  warnings.warn(message)\n",
      "/home/maveron/.conda/envs/304/lib/python3.12/site-packages/optuna/distributions.py:518: UserWarning: Choices for a categorical distribution should be a tuple of None, bool, int, float and str for persistent storage but contains (1, 2) which is of type tuple.\n",
      "  warnings.warn(message)\n",
      "/home/maveron/.conda/envs/304/lib/python3.12/site-packages/optuna/distributions.py:518: UserWarning: Choices for a categorical distribution should be a tuple of None, bool, int, float and str for persistent storage but contains (1, 3) which is of type tuple.\n",
      "  warnings.warn(message)\n",
      "/home/maveron/.conda/envs/304/lib/python3.12/site-packages/optuna/distributions.py:518: UserWarning: Choices for a categorical distribution should be a tuple of None, bool, int, float and str for persistent storage but contains (2, 2) which is of type tuple.\n",
      "  warnings.warn(message)\n",
      "/home/maveron/.conda/envs/304/lib/python3.12/site-packages/optuna/distributions.py:518: UserWarning: Choices for a categorical distribution should be a tuple of None, bool, int, float and str for persistent storage but contains (2, 3) which is of type tuple.\n",
      "  warnings.warn(message)\n",
      "/home/maveron/.conda/envs/304/lib/python3.12/site-packages/sklearn/linear_model/_sag.py:348: ConvergenceWarning: The max_iter was reached which means the coef_ did not converge\n",
      "  warnings.warn(\n",
      "/home/maveron/.conda/envs/304/lib/python3.12/site-packages/sklearn/linear_model/_sag.py:348: ConvergenceWarning: The max_iter was reached which means the coef_ did not converge\n",
      "  warnings.warn(\n",
      "Hyperparameter Optimization (Custom Val Split):  90%|▉| 9/10 [04:38<00:49, 49.60s/trial, Train: 0.8349 | Val: 0.7242 | B[I 2025-07-10 12:46:30,270] Trial 8 finished with value: 0.7241935483870968 and parameters: {'tfidf__ngram_range': (2, 2), 'tfidf__max_features': 10000, 'tfidf__min_df': 1, 'tfidf__max_df': 0.95, 'tfidf__sublinear_tf': True, 'tfidf__stop_words': None, 'tfidf__use_idf': False, 'tfidf__norm': 'l2', 'clf__C': 35.612978282612836, 'clf__solver': 'saga', 'clf__class_weight': None, 'clf__max_iter': 2000}. Best is trial 8 with value: 0.7241935483870968.\n",
      "/home/maveron/.conda/envs/304/lib/python3.12/site-packages/optuna/distributions.py:518: UserWarning: Choices for a categorical distribution should be a tuple of None, bool, int, float and str for persistent storage but contains (1, 1) which is of type tuple.\n",
      "  warnings.warn(message)\n",
      "/home/maveron/.conda/envs/304/lib/python3.12/site-packages/optuna/distributions.py:518: UserWarning: Choices for a categorical distribution should be a tuple of None, bool, int, float and str for persistent storage but contains (1, 2) which is of type tuple.\n",
      "  warnings.warn(message)\n",
      "/home/maveron/.conda/envs/304/lib/python3.12/site-packages/optuna/distributions.py:518: UserWarning: Choices for a categorical distribution should be a tuple of None, bool, int, float and str for persistent storage but contains (1, 3) which is of type tuple.\n",
      "  warnings.warn(message)\n",
      "/home/maveron/.conda/envs/304/lib/python3.12/site-packages/optuna/distributions.py:518: UserWarning: Choices for a categorical distribution should be a tuple of None, bool, int, float and str for persistent storage but contains (2, 2) which is of type tuple.\n",
      "  warnings.warn(message)\n",
      "/home/maveron/.conda/envs/304/lib/python3.12/site-packages/optuna/distributions.py:518: UserWarning: Choices for a categorical distribution should be a tuple of None, bool, int, float and str for persistent storage but contains (2, 3) which is of type tuple.\n",
      "  warnings.warn(message)\n",
      "Hyperparameter Optimization (Custom Val Split): 100%|█| 10/10 [04:52<00:00, 38.51s/trial, Train: 0.5000 | Val: 0.5000 | [I 2025-07-10 12:46:43,947] Trial 9 finished with value: 0.5 and parameters: {'tfidf__ngram_range': (1, 3), 'tfidf__max_features': 5000, 'tfidf__min_df': 3, 'tfidf__max_df': 0.85, 'tfidf__sublinear_tf': True, 'tfidf__stop_words': 'english', 'tfidf__use_idf': True, 'tfidf__norm': 'l2', 'clf__C': 0.04545303945731941, 'clf__solver': 'liblinear', 'clf__class_weight': None, 'clf__max_iter': 500}. Best is trial 8 with value: 0.7241935483870968.\n",
      "Hyperparameter Optimization (Custom Val Split): 100%|█| 10/10 [04:52<00:00, 29.23s/trial, Train: 0.5000 | Val: 0.5000 | \n"
     ]
    },
    {
     "name": "stdout",
     "output_type": "stream",
     "text": [
      "\n",
      "🎯 Optimization completed using Custom Val Split!\n",
      "   Best score: 0.7242\n",
      "   Total trials: 10\n",
      "🔧 Training final model with best parameters...\n",
      "✅ Training complete!\n",
      "📊 Logging optimization summary...\n",
      "✅ Optimization summary logged!\n",
      "\n",
      "============================================================\n",
      "🎯 TEST SET EVALUATION RESULTS\n",
      "============================================================\n",
      "\n",
      "📊 OVERVIEW\n",
      "   Test Samples: 1,714\n",
      "   Classes: 2\n",
      "   Overall Accuracy: 0.5951\n",
      "\n",
      "🎯 MAIN PERFORMANCE METRICS\n",
      "   Macro F1:     0.5946\n",
      "   Micro F1:     0.5951\n",
      "   Weighted F1:  0.5946\n",
      "\n",
      "📈 PRECISION/RECALL SUMMARY\n",
      "   Macro    - P: 0.5955  R: 0.5951\n",
      "   Micro    - P: 0.5951  R: 0.5951\n",
      "   Weighted - P: 0.5955  R: 0.5951\n",
      "\n",
      "📋 DETAILED CLASSIFICATION REPORT\n",
      "   Class             Precision     Recall   F1-Score    Support\n",
      "   ---------------- ---------- ---------- ---------- ----------\n",
      "   Fit                  0.6020     0.5613     0.5809        857\n",
      "   Not Fit              0.5891     0.6289     0.6084        857\n",
      "   ---------------- ---------- ---------- ---------- ----------\n",
      "   macro avg            0.5955     0.5951     0.5946       1714\n",
      "   weighted avg         0.5955     0.5951     0.5946       1714\n",
      "\n",
      "🔢 CONFUSION MATRIX\n",
      "   Rows: True Labels, Columns: Predicted Labels\n",
      "   Predicted →\n",
      "   True ↓        Fit  Not Fit \n",
      "   Fit           481      376 \n",
      "   Not Fit       318      539 \n",
      "\n",
      "============================================================\n",
      "💾 Finalizing experiment...\n",
      "\n",
      "✅ Experiment 'Optimized model LogReg model with L1 penalty' completed and logged.\n",
      "\n"
     ]
    },
    {
     "data": {
      "text/plain": [
       "<utils.ExperimentManger.Experiment at 0x7f3684343b30>"
      ]
     },
     "execution_count": 10,
     "metadata": {},
     "output_type": "execute_result"
    }
   ],
   "source": [
    "experiment = Experiment(\n",
    "    name=f\"Optimized model LogReg model with L1 penalty\",\n",
    "    description=f\"An optimized model with L1 penalty fixed\",\n",
    "    pipeline_factory=pipeline_factory,\n",
    "    param_space=moderate_l1_param_space,\n",
    ")\n",
    "\n",
    "manager.run_experiment(experiment, splits=splits, **optuna_kwargs)"
   ]
  },
  {
   "cell_type": "markdown",
   "id": "8a266d93",
   "metadata": {},
   "source": [
    "## Multiclass Classification"
   ]
  },
  {
   "cell_type": "code",
   "execution_count": 20,
   "id": "e8f8b850",
   "metadata": {},
   "outputs": [],
   "source": [
    "from utils import ExperimentManager, Experiment\n",
    "\n",
    "CLASSIFICATION_TYPE = \"multiclass\"\n",
    "\n",
    "manager = ExperimentManager(f\"../runs/{CLASSIFICATION_TYPE}/{MODEL_TYPE}\", [\"Good Fit\", \"Potential Fit\", \"No Fit\"])\n",
    "X_train, y_train, X_val, y_val, X_test, y_test = get_datasets(CLASSIFICATION_TYPE)\n",
    "\n",
    "splits = ((X_train, y_train), (X_val, y_val), (X_test, y_test))"
   ]
  },
  {
   "cell_type": "markdown",
   "id": "5d9c8281",
   "metadata": {},
   "source": [
    "### Basline with default scikit learn parameters and no optimization"
   ]
  },
  {
   "cell_type": "code",
   "execution_count": null,
   "id": "d11a763b",
   "metadata": {},
   "outputs": [],
   "source": [
    "from sklearn.pipeline import Pipeline\n",
    "from sklearn.linear_model import LogisticRegression\n",
    "from sklearn.preprocessing import FunctionTransformer\n",
    "from sklearn.feature_extraction.text import TfidfVectorizer\n",
    "\n",
    "def combine_text(X):\n",
    "    X = X.copy() \n",
    "\n",
    "    combined = X[\"resume_text\"].astype(str) + \" [SEP] \" + X[\"job_description_text\"].astype(str)\n",
    "\n",
    "    return combined.values\n",
    "\n",
    "# Pipeline\n",
    "pipe = Pipeline([\n",
    "    (\"join\", FunctionTransformer(combine_text, validate=False)),\n",
    "    ('tfidf', TfidfVectorizer()),  # Convert text to numeric\n",
    "    ('clf', LogisticRegression(random_state=42))  # Logistic Regression model\n",
    "])\n",
    "\n",
    "def pipeline_factory(params):\n",
    "    # Since we’re not using params here, we just return the static pipeline\n",
    "    return pipe\n",
    "\n",
    "experiment = Experiment(\n",
    "    name=f\"Baseline {CLASSIFICATION_TYPE} {MODEL_TYPE}\",\n",
    "    description=f\"{CLASSIFICATION_TYPE} {MODEL_TYPE} with TF-IDF and no hyperparameter tuning.\",\n",
    "    pipeline_factory=pipeline_factory,\n",
    "    splits=[(X_val, y_val), (X_test, y_test)],\n",
    "    split_names=[\"Validation\", \"Test\"]\n",
    ")\n",
    "\n",
    "manager.run_experiment(experiment, train_data=(X_train, y_train))"
   ]
  },
  {
   "cell_type": "markdown",
   "id": "cde36840",
   "metadata": {},
   "source": [
    "# Baseline Optimized Classification\n",
    "\n",
    "A baseline parameter space to compare other parameter spaces against"
   ]
  },
  {
   "cell_type": "code",
   "execution_count": 21,
   "id": "8d6149a0",
   "metadata": {},
   "outputs": [],
   "source": [
    "def baseline_param_space(trial):\n",
    "    \"\"\"\n",
    "    Simple, reliable parameter space for quick experiments\n",
    "    Uses only the most important hyperparameters\n",
    "    \"\"\"\n",
    "    return {\n",
    "        # Essential TF-IDF parameters\n",
    "        'tfidf__ngram_range': trial.suggest_categorical('tfidf__ngram_range',\n",
    "                                                       [(1, 1), (1, 2)]),\n",
    "        'tfidf__max_features': trial.suggest_categorical('tfidf__max_features',\n",
    "                                                        [5000, 10000, 20000]),\n",
    "        'tfidf__min_df': trial.suggest_categorical('tfidf__min_df', [2, 5]),\n",
    "        'tfidf__max_df': trial.suggest_categorical('tfidf__max_df', [0.9, 0.95]),\n",
    "        \n",
    "        # Simple LogReg\n",
    "        'clf__C': trial.suggest_float('clf__C', 0.1, 10.0, log=True),\n",
    "        'clf__penalty': 'l2',\n",
    "        'clf__solver': 'lbfgs',\n",
    "        'clf__class_weight': trial.suggest_categorical('clf__class_weight', [None, 'balanced']),\n",
    "        'clf__max_iter': 1000,\n",
    "    }"
   ]
  },
  {
   "cell_type": "code",
   "execution_count": 22,
   "id": "346e2d68",
   "metadata": {},
   "outputs": [],
   "source": [
    "def pipeline_factory(params):\n",
    "    \"\"\"Create pipeline with hyperparameters applied\"\"\"\n",
    "    \n",
    "    # Create base pipeline\n",
    "    pipe = Pipeline([\n",
    "        (\"join\", FunctionTransformer(combine_text, validate=False)),\n",
    "        ('tfidf', TfidfVectorizer()),\n",
    "        ('clf', LogisticRegression(random_state=SEED))\n",
    "    ])\n",
    "    \n",
    "    # Apply parameters using set_params if any parameters are provided\n",
    "    if params:\n",
    "        pipe.set_params(**params)\n",
    "    \n",
    "    return pipe"
   ]
  },
  {
   "cell_type": "code",
   "execution_count": 23,
   "id": "b4ef83f8",
   "metadata": {},
   "outputs": [],
   "source": [
    "optuna_kwargs = {\n",
    "    \"n_trials\": 10,        # Increase from 5 to 20 for better optimization\n",
    "    \"cv_folds\": 5,         # Reduce from 10 to 5 for faster training\n",
    "    \"scoring\": \"accuracy\",\n",
    "    \"random_state\": SEED,\n",
    "    \"optimise\":True\n",
    "}"
   ]
  },
  {
   "cell_type": "code",
   "execution_count": null,
   "id": "cb148f27",
   "metadata": {},
   "outputs": [
    {
     "name": "stdout",
     "output_type": "stream",
     "text": [
      "\n",
      "=== Running Experiment: Optimized LogReg model with L2 penalty ===\n"
     ]
    },
    {
     "name": "stderr",
     "output_type": "stream",
     "text": [
      "Hyperparameter Optimization (Custom Val Split):   0%|                                         | 0/10 [00:00<?, ?trial/s][I 2025-07-10 12:53:56,654] A new study created in memory with name: no-name-1d7d9760-c8e8-47df-9173-edbf73654ec5\n",
      "/home/maveron/.conda/envs/304/lib/python3.12/site-packages/optuna/distributions.py:518: UserWarning: Choices for a categorical distribution should be a tuple of None, bool, int, float and str for persistent storage but contains (1, 1) which is of type tuple.\n",
      "  warnings.warn(message)\n",
      "/home/maveron/.conda/envs/304/lib/python3.12/site-packages/optuna/distributions.py:518: UserWarning: Choices for a categorical distribution should be a tuple of None, bool, int, float and str for persistent storage but contains (1, 2) which is of type tuple.\n",
      "  warnings.warn(message)\n"
     ]
    }
   ],
   "source": [
    "experiment = Experiment(\n",
    "    name=f\"Optimized LogReg model with L2 penalty\",\n",
    "    description=f\"An optimized model with L2 penalty fixed\",\n",
    "    pipeline_factory=pipeline_factory,\n",
    "    param_space=baseline_param_space,\n",
    ")\n",
    "\n",
    "manager.run_experiment(experiment, splits=splits, **optuna_kwargs)"
   ]
  },
  {
   "cell_type": "code",
   "execution_count": null,
   "id": "3ea4ca38",
   "metadata": {},
   "outputs": [],
   "source": []
  }
 ],
 "metadata": {
  "kernelspec": {
   "display_name": "304",
   "language": "python",
   "name": "python3"
  },
  "language_info": {
   "codemirror_mode": {
    "name": "ipython",
    "version": 3
   },
   "file_extension": ".py",
   "mimetype": "text/x-python",
   "name": "python",
   "nbconvert_exporter": "python",
   "pygments_lexer": "ipython3",
   "version": "3.12.11"
  }
 },
 "nbformat": 4,
 "nbformat_minor": 5
}
