{
 "cells": [
  {
   "cell_type": "code",
   "execution_count": 1,
   "id": "79f9e330",
   "metadata": {},
   "outputs": [],
   "source": [
    "import sys\n",
    "sys.path.append('..')"
   ]
  },
  {
   "cell_type": "markdown",
   "id": "7fbf825c",
   "metadata": {},
   "source": [
    "# Data Loading"
   ]
  },
  {
   "cell_type": "code",
   "execution_count": 2,
   "id": "5b5428d1",
   "metadata": {},
   "outputs": [
    {
     "name": "stdout",
     "output_type": "stream",
     "text": [
      "binary     train  X shape = (4336, 2),  y len = 4336\n",
      "binary     val    X shape = (1860, 2),  y len = 1860\n",
      "binary     test   X shape = (1714, 2),  y len = 1714\n",
      "multiclass train  X shape = (3237, 2),  y len = 3237\n",
      "multiclass val    X shape = (1389, 2),  y len = 1389\n",
      "multiclass test   X shape = (1332, 2),  y len = 1332\n"
     ]
    }
   ],
   "source": [
    "from pathlib import Path\n",
    "import pandas as pd\n",
    "\n",
    "def load_datasets(data_root: str | Path = \"data\",\n",
    "                  tasks: tuple[str, ...] = (\"binary\", \"multiclass\"),\n",
    "                  splits: tuple[str, ...] = (\"train\", \"val\", \"test\")) -> dict:\n",
    "\n",
    "    data_root = Path(data_root)\n",
    "    datasets  = {}\n",
    "\n",
    "    for task in tasks:\n",
    "        task_dir     = data_root / task\n",
    "        task_dict    = {}\n",
    "\n",
    "        for split in splits:\n",
    "            split_dict = {}\n",
    "            for kind in (\"X\", \"y\"):\n",
    "                file_path = task_dir / f\"{kind}_{split}.pkl\"\n",
    "                split_dict[kind] = pd.read_pickle(file_path)\n",
    "            task_dict[split] = split_dict\n",
    "\n",
    "        datasets[task] = task_dict\n",
    "\n",
    "    return datasets\n",
    "\n",
    "\n",
    "# ── usage ────────────────────────────────────────────────────────\n",
    "datasets = load_datasets(\"../data\")\n",
    "\n",
    "# quick sanity-check\n",
    "for task, splits in datasets.items():\n",
    "    for split, obj in splits.items():\n",
    "        print(f\"{task:<10} {split:<5}  X shape = {obj['X'].shape},  y len = {len(obj['y'])}\")"
   ]
  },
  {
   "cell_type": "markdown",
   "id": "7d11e9d1",
   "metadata": {},
   "source": [
    "# Experiments"
   ]
  },
  {
   "cell_type": "code",
   "execution_count": 3,
   "id": "8a64cb00",
   "metadata": {},
   "outputs": [],
   "source": [
    "from sklearn.pipeline import Pipeline\n",
    "from sklearn.linear_model import LogisticRegression\n",
    "from sklearn.preprocessing import FunctionTransformer\n",
    "from sklearn.feature_extraction.text import TfidfVectorizer"
   ]
  },
  {
   "cell_type": "code",
   "execution_count": 4,
   "id": "d740ce01",
   "metadata": {},
   "outputs": [],
   "source": [
    "MODEL_TYPE = \"LogReg\"\n",
    "SEED = 42"
   ]
  },
  {
   "cell_type": "code",
   "execution_count": 5,
   "id": "70707570",
   "metadata": {},
   "outputs": [],
   "source": [
    "def get_datasets(kind: str):\n",
    "    dataset = datasets[kind]\n",
    "    \n",
    "    X_train = dataset[\"train\"][\"X\"]\n",
    "    y_train = dataset[\"train\"][\"y\"]\n",
    "    \n",
    "    X_val = dataset[\"val\"][\"X\"]\n",
    "    y_val = dataset[\"val\"][\"y\"]\n",
    "    \n",
    "    X_test = dataset[\"test\"][\"X\"]\n",
    "    y_test = dataset[\"test\"][\"y\"]\n",
    "\n",
    "    return X_train, y_train, X_val, y_val, X_test, y_test\n",
    "\n",
    "\n",
    "def combine_text(X):\n",
    "    X = X.copy() \n",
    "\n",
    "    combined = X[\"resume_text\"].astype(str) + \" [SEP] \" + X[\"job_description_text\"].astype(str)\n",
    "\n",
    "    return combined.values"
   ]
  },
  {
   "cell_type": "markdown",
   "id": "4ae60d6c",
   "metadata": {},
   "source": [
    "## Binary Classification"
   ]
  },
  {
   "cell_type": "code",
   "execution_count": null,
   "id": "4953c178",
   "metadata": {},
   "outputs": [],
   "source": [
    "\n",
    "CLASSIFICATION_TYPE = \"binary\"\n",
    "\n",
    "X_train, y_train, X_val, y_val, X_test, y_test = get_datasets(CLASSIFICATION_TYPE)"
   ]
  },
  {
   "cell_type": "markdown",
   "id": "50d334aa",
   "metadata": {},
   "source": [
    "### Baseline with default scikit learn parameters and no optimization"
   ]
  },
  {
   "cell_type": "code",
   "execution_count": null,
   "id": "3990ba11",
   "metadata": {},
   "outputs": [],
   "source": [
    "# Pipeline\n",
    "pipe = Pipeline([\n",
    "    (\"join\", FunctionTransformer(combine_text, validate=False)),\n",
    "    ('tfidf', TfidfVectorizer()),  # Convert text to numeric\n",
    "    ('clf', LogisticRegression(random_state=42))  # Logistic Regression model\n",
    "])\n",
    "\n",
    "def pipeline_factory(params):\n",
    "    # Since we’re not using params here, we just return the static pipeline\n",
    "    return pipe\n",
    "\n",
    "experiment = Experiment(\n",
    "    name=f\"Baseline {CLASSIFICATION_TYPE} {MODEL_TYPE}\",\n",
    "    description=f\"{CLASSIFICATION_TYPE} {MODEL_TYPE} with TF-IDF and no hyperparameter tuning.\",\n",
    "    pipeline_factory=pipeline_factory,\n",
    "    splits=[(X_val, y_val), (X_test, y_test)],\n",
    "    split_names=[\"Validation\", \"Test\"]\n",
    ")\n",
    "\n",
    "manager.run_experiment(experiment, train_data=(X_train, y_train))"
   ]
  },
  {
   "cell_type": "markdown",
   "id": "03b37ee7",
   "metadata": {},
   "source": [
    "### Optimized Logistic Regression Experiment"
   ]
  },
  {
   "cell_type": "markdown",
   "id": "4328176c",
   "metadata": {},
   "source": [
    "A comperehensive parameter space"
   ]
  },
  {
   "cell_type": "code",
   "execution_count": null,
   "id": "8d2699c2",
   "metadata": {},
   "outputs": [],
   "source": [
    "# CHANGE: Remove the tuple conversion (new ModelTrainer handles this)\n",
    "def param_space(trial):\n",
    "    \"\"\"Define hyperparameter search space for TF-IDF + Logistic Regression\"\"\"\n",
    "    \n",
    "    params = {\n",
    "        'tfidf__ngram_range': trial.suggest_categorical('tfidf__ngram_range', \n",
    "                                                       [(1, 1), (1, 2), (1, 3)]),  # Direct tuples\n",
    "        'tfidf__max_features': trial.suggest_categorical('tfidf__max_features',\n",
    "                                                        [5000, 10000, 15000, 20000]),\n",
    "        'tfidf__min_df': trial.suggest_categorical('tfidf__min_df', [2, 5, 0.01]),\n",
    "        'tfidf__max_df': trial.suggest_categorical('tfidf__max_df', [0.85, 0.9, 0.95]),\n",
    "        'tfidf__sublinear_tf': trial.suggest_categorical('tfidf__sublinear_tf', [True, False]),\n",
    "        'tfidf__stop_words': trial.suggest_categorical('tfidf__stop_words', ['english', None]),\n",
    "        'clf__C': trial.suggest_float('clf__C', 0.01, 100.0, log=True),\n",
    "        'clf__penalty': trial.suggest_categorical('clf__penalty', ['l1', 'l2']),\n",
    "        'clf__solver': trial.suggest_categorical('clf__solver', ['liblinear', 'saga']),\n",
    "        'clf__class_weight': trial.suggest_categorical('clf__class_weight', [None, 'balanced']),\n",
    "        'clf__max_iter': trial.suggest_categorical('clf__max_iter', [200, 500, 1000]),\n",
    "    }\n",
    "    return params"
   ]
  },
  {
   "cell_type": "code",
   "execution_count": null,
   "id": "3a97cb24",
   "metadata": {},
   "outputs": [],
   "source": [
    "def pipeline_factory(params):\n",
    "    \"\"\"Create pipeline with hyperparameters applied\"\"\"\n",
    "    \n",
    "    # Create base pipeline\n",
    "    pipe = Pipeline([\n",
    "        (\"join\", FunctionTransformer(combine_text, validate=False)),\n",
    "        ('tfidf', TfidfVectorizer()),\n",
    "        ('clf', LogisticRegression(random_state=SEED))\n",
    "    ])\n",
    "    \n",
    "    # Apply parameters using set_params if any parameters are provided\n",
    "    if params:\n",
    "        pipe.set_params(**params)\n",
    "    \n",
    "    return pipe"
   ]
  },
  {
   "cell_type": "code",
   "execution_count": null,
   "id": "78a82584",
   "metadata": {},
   "outputs": [],
   "source": [
    "optuna_kwargs = {\n",
    "    \"n_trials\": 2,        # Increase from 5 to 20 for better optimization\n",
    "    \"cv_folds\": 5,         # Reduce from 10 to 5 for faster training\n",
    "    \"scoring\": \"accuracy\",\n",
    "    \"random_state\": SEED\n",
    "}"
   ]
  },
  {
   "cell_type": "code",
   "execution_count": null,
   "id": "899459a0",
   "metadata": {},
   "outputs": [],
   "source": [
    "experiment = Experiment(\n",
    "    name=f\"Optimizaed {CLASSIFICATION_TYPE} classification {MODEL_TYPE} model\",\n",
    "    description=f\"{CLASSIFICATION_TYPE} {MODEL_TYPE} with TF-IDF and {MODEL_TYPE} hyperparameter tuning using a comprehensive parameter space.\",\n",
    "    pipeline_factory=pipeline_factory,\n",
    "    splits=[(X_val, y_val), (X_test, y_test)],\n",
    "    param_space=param_space,\n",
    "    split_names=[\"Validation\", \"Test\"]\n",
    ")\n",
    "\n",
    "manager.run_experiment(experiment, train_data=(X_train, y_train), **optuna_kwargs)"
   ]
  },
  {
   "cell_type": "markdown",
   "id": "8a266d93",
   "metadata": {},
   "source": [
    "## Multiclass Classification"
   ]
  },
  {
   "cell_type": "code",
   "execution_count": 6,
   "id": "e8f8b850",
   "metadata": {},
   "outputs": [],
   "source": [
    "\n",
    "CLASSIFICATION_TYPE = \"multiclass\"\n",
    "\n",
    "# manager = ExperimentManager(f\"../runs/{CLASSIFICATION_TYPE}/{MODEL_TYPE}\")\n",
    "X_train, y_train, X_val, y_val, X_test, y_test = get_datasets(CLASSIFICATION_TYPE)"
   ]
  },
  {
   "cell_type": "markdown",
   "id": "5d9c8281",
   "metadata": {},
   "source": [
    "### Basline with default scikit learn parameters and no optimization"
   ]
  },
  {
   "cell_type": "code",
   "execution_count": null,
   "id": "d11a763b",
   "metadata": {},
   "outputs": [],
   "source": [
    "from sklearn.pipeline import Pipeline\n",
    "from sklearn.linear_model import LogisticRegression\n",
    "from sklearn.preprocessing import FunctionTransformer\n",
    "from sklearn.feature_extraction.text import TfidfVectorizer\n",
    "\n",
    "def combine_text(X):\n",
    "    X = X.copy() \n",
    "\n",
    "    combined = X[\"resume_text\"].astype(str) + \" [SEP] \" + X[\"job_description_text\"].astype(str)\n",
    "\n",
    "    return combined.values\n",
    "\n",
    "# Pipeline\n",
    "pipe = Pipeline([\n",
    "    (\"join\", FunctionTransformer(combine_text, validate=False)),\n",
    "    ('tfidf', TfidfVectorizer()),  # Convert text to numeric\n",
    "    ('clf', LogisticRegression(random_state=42))  # Logistic Regression model\n",
    "])\n",
    "\n",
    "def pipeline_factory(params):\n",
    "    # Since we’re not using params here, we just return the static pipeline\n",
    "    return pipe\n",
    "\n",
    "experiment = Experiment(\n",
    "    name=f\"Baseline {CLASSIFICATION_TYPE} {MODEL_TYPE}\",\n",
    "    description=f\"{CLASSIFICATION_TYPE} {MODEL_TYPE} with TF-IDF and no hyperparameter tuning.\",\n",
    "    pipeline_factory=pipeline_factory,\n",
    "    splits=[(X_val, y_val), (X_test, y_test)],\n",
    "    split_names=[\"Validation\", \"Test\"]\n",
    ")\n",
    "\n",
    "manager.run_experiment(experiment, train_data=(X_train, y_train))"
   ]
  },
  {
   "cell_type": "markdown",
   "id": "777ddc71",
   "metadata": {},
   "source": [
    "### Optimized Multiclass Logistic Regression Experiment\n"
   ]
  },
  {
   "cell_type": "code",
   "execution_count": 7,
   "id": "42ed9268",
   "metadata": {},
   "outputs": [],
   "source": [
    "# CHANGE: Remove the tuple conversion (new ModelTrainer handles this)\n",
    "def param_space(trial):\n",
    "    \"\"\"Define hyperparameter search space for TF-IDF + Logistic Regression\"\"\"\n",
    "\n",
    "    params = {\n",
    "        'tfidf__ngram_range': trial.suggest_categorical('tfidf__ngram_range',\n",
    "                                                        # Direct tuples\n",
    "                                                        [(1, 1), (1, 2), (1, 3)]),\n",
    "        'tfidf__max_features': trial.suggest_categorical('tfidf__max_features',\n",
    "                                                         [5000, 10000, 15000, 20000]),\n",
    "        'tfidf__min_df': trial.suggest_categorical('tfidf__min_df', [2, 5, 0.01]),\n",
    "        'tfidf__max_df': trial.suggest_categorical('tfidf__max_df', [0.85, 0.9, 0.95]),\n",
    "        'tfidf__sublinear_tf': trial.suggest_categorical('tfidf__sublinear_tf', [True, False]),\n",
    "        'tfidf__stop_words': trial.suggest_categorical('tfidf__stop_words', ['english', None]),\n",
    "        'clf__C': trial.suggest_float('clf__C', 0.01, 100.0, log=True),\n",
    "        'clf__penalty': trial.suggest_categorical('clf__penalty', ['l1', 'l2']),\n",
    "        'clf__solver': trial.suggest_categorical('clf__solver', ['liblinear', 'saga']),\n",
    "        'clf__class_weight': trial.suggest_categorical('clf__class_weight', [None, 'balanced']),\n",
    "        'clf__max_iter': trial.suggest_categorical('clf__max_iter', [200, 500, 1000]),\n",
    "    }\n",
    "    return params"
   ]
  },
  {
   "cell_type": "code",
   "execution_count": 8,
   "id": "089710cd",
   "metadata": {},
   "outputs": [],
   "source": [
    "def pipeline_factory(params):\n",
    "    \"\"\"Create pipeline with hyperparameters applied\"\"\"\n",
    "\n",
    "    # Create base pipeline\n",
    "    pipe = Pipeline([\n",
    "        (\"join\", FunctionTransformer(combine_text, validate=False)),\n",
    "        ('tfidf', TfidfVectorizer()),\n",
    "        ('clf', LogisticRegression(random_state=SEED))\n",
    "    ])\n",
    "\n",
    "    # Apply parameters using set_params if any parameters are provided\n",
    "    if params:\n",
    "        pipe.set_params(**params)\n",
    "\n",
    "    return pipe"
   ]
  },
  {
   "cell_type": "code",
   "execution_count": 9,
   "id": "e9f08fad",
   "metadata": {},
   "outputs": [],
   "source": [
    "optuna_kwargs = {\n",
    "    \"n_trials\": 10,        # Increase from 5 to 20 for better optimization\n",
    "    \"cv_folds\": 5,         # Reduce from 10 to 5 for faster training\n",
    "    \"scoring\": \"accuracy\",\n",
    "    \"random_state\": SEED\n",
    "}"
   ]
  },
  {
   "cell_type": "code",
   "execution_count": 12,
   "id": "b733a77b",
   "metadata": {},
   "outputs": [],
   "source": [
    "from tensorboardX import SummaryWriter\n",
    "from utils.ModelTrainer import ModelTrainer\n",
    "\n",
    "writer = SummaryWriter(\n",
    "    log_dir=\"../runs/multiclass/LogReg/Optimized multiclass LogReg\")\n",
    "\n",
    "trainer = ModelTrainer(\n",
    "    pipeline_factory=pipeline_factory,\n",
    "    param_space=param_space,\n",
    "    n_trials=optuna_kwargs.get(\"n_trials\"),\n",
    "    cv_folds=optuna_kwargs.get(\"cv_folds\"),\n",
    "    scoring=optuna_kwargs.get(\"scoring\"),\n",
    "    random_state=optuna_kwargs.get(\"random_state\"),\n",
    "    writer=writer\n",
    ")"
   ]
  },
  {
   "cell_type": "code",
   "execution_count": null,
   "id": "6e647330",
   "metadata": {},
   "outputs": [
    {
     "name": "stderr",
     "output_type": "stream",
     "text": [
      "Hyperparameter Optimization (Custom Val Split):   0%|                                         | 0/10 [00:00<?, ?trial/s][I 2025-07-09 17:03:36,616] A new study created in memory with name: no-name-3be59a0d-79bf-4738-aacf-8e6188e20e54\n",
      "/opt/homebrew/anaconda3/envs/304/lib/python3.12/site-packages/optuna/distributions.py:518: UserWarning: Choices for a categorical distribution should be a tuple of None, bool, int, float and str for persistent storage but contains (1, 1) which is of type tuple.\n",
      "  warnings.warn(message)\n",
      "/opt/homebrew/anaconda3/envs/304/lib/python3.12/site-packages/optuna/distributions.py:518: UserWarning: Choices for a categorical distribution should be a tuple of None, bool, int, float and str for persistent storage but contains (1, 2) which is of type tuple.\n",
      "  warnings.warn(message)\n",
      "/opt/homebrew/anaconda3/envs/304/lib/python3.12/site-packages/optuna/distributions.py:518: UserWarning: Choices for a categorical distribution should be a tuple of None, bool, int, float and str for persistent storage but contains (1, 3) which is of type tuple.\n",
      "  warnings.warn(message)\n"
     ]
    }
   ],
   "source": [
    "pipeline = trainer.train(X_train=X_train, y_train=y_train, X_val=X_val, y_val=y_val, optimise=True)"
   ]
  },
  {
   "cell_type": "code",
   "execution_count": null,
   "id": "04c5a9a5",
   "metadata": {},
   "outputs": [],
   "source": [
    "from utils.ModelEvaluator import ModelEvaluator\n",
    "\n",
    "evaluator = ModelEvaluator(writer=writer)"
   ]
  },
  {
   "cell_type": "code",
   "execution_count": null,
   "id": "2740a2cf",
   "metadata": {},
   "outputs": [],
   "source": [
    "evaluator.evaluate_test_set(pipeline, X_test, y_test, class_labels=[\"Good fit\", \"Potential Fit\", \"No Fit\"])"
   ]
  },
  {
   "cell_type": "code",
   "execution_count": null,
   "id": "99647397",
   "metadata": {},
   "outputs": [],
   "source": []
  }
 ],
 "metadata": {
  "kernelspec": {
   "display_name": "304",
   "language": "python",
   "name": "python3"
  },
  "language_info": {
   "codemirror_mode": {
    "name": "ipython",
    "version": 3
   },
   "file_extension": ".py",
   "mimetype": "text/x-python",
   "name": "python",
   "nbconvert_exporter": "python",
   "pygments_lexer": "ipython3",
   "version": "3.12.11"
  }
 },
 "nbformat": 4,
 "nbformat_minor": 5
}
