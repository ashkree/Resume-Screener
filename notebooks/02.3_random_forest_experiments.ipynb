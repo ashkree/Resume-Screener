{
 "cells": [
  {
   "cell_type": "code",
   "execution_count": 1,
   "id": "70162555",
   "metadata": {},
   "outputs": [],
   "source": [
    "import sys\n",
    "sys.path.append('..') "
   ]
  },
  {
   "cell_type": "markdown",
   "id": "94a5c694",
   "metadata": {},
   "source": [
    "# Data Loading"
   ]
  },
  {
   "cell_type": "code",
   "execution_count": 2,
   "id": "3426fa16",
   "metadata": {},
   "outputs": [
    {
     "name": "stdout",
     "output_type": "stream",
     "text": [
      "binary     train  X shape = (4336, 2),  y len = 4336\n",
      "binary     val    X shape = (1860, 2),  y len = 1860\n",
      "binary     test   X shape = (1714, 2),  y len = 1714\n",
      "multiclass train  X shape = (3237, 2),  y len = 3237\n",
      "multiclass val    X shape = (1389, 2),  y len = 1389\n",
      "multiclass test   X shape = (1332, 2),  y len = 1332\n"
     ]
    }
   ],
   "source": [
    "from pathlib import Path\n",
    "import pandas as pd\n",
    "\n",
    "def load_datasets(data_root: str | Path = \"data\",\n",
    "                  tasks: tuple[str, ...] = (\"binary\", \"multiclass\"),\n",
    "                  splits: tuple[str, ...] = (\"train\", \"val\", \"test\")) -> dict:\n",
    "\n",
    "    data_root = Path(data_root)\n",
    "    datasets  = {}\n",
    "\n",
    "    for task in tasks:\n",
    "        task_dir     = data_root / task\n",
    "        task_dict    = {}\n",
    "\n",
    "        for split in splits:\n",
    "            split_dict = {}\n",
    "            for kind in (\"X\", \"y\"):\n",
    "                file_path = task_dir / f\"{kind}_{split}.pkl\"\n",
    "                split_dict[kind] = pd.read_pickle(file_path)\n",
    "            task_dict[split] = split_dict\n",
    "\n",
    "        datasets[task] = task_dict\n",
    "\n",
    "    return datasets\n",
    "\n",
    "\n",
    "# ── usage ────────────────────────────────────────────────────────\n",
    "datasets = load_datasets(\"../data\")\n",
    "\n",
    "# quick sanity-check\n",
    "for task, splits in datasets.items():\n",
    "    for split, obj in splits.items():\n",
    "        print(f\"{task:<10} {split:<5}  X shape = {obj['X'].shape},  y len = {len(obj['y'])}\")"
   ]
  },
  {
   "cell_type": "markdown",
   "id": "b2e95da7",
   "metadata": {},
   "source": [
    "# Experiments"
   ]
  },
  {
   "cell_type": "code",
   "execution_count": 3,
   "id": "d66b059c",
   "metadata": {},
   "outputs": [],
   "source": [
    "from sklearn.pipeline import Pipeline\n",
    "from sklearn.preprocessing import FunctionTransformer\n",
    "from sklearn.feature_extraction.text import TfidfVectorizer\n",
    "from sklearn.ensemble import RandomForestClassifier"
   ]
  },
  {
   "cell_type": "code",
   "execution_count": 4,
   "id": "b6e97c06",
   "metadata": {},
   "outputs": [],
   "source": [
    "MODEL_TYPE = \"RandomForest\"\n",
    "SEED = 42"
   ]
  },
  {
   "cell_type": "code",
   "execution_count": 5,
   "id": "d562b37d",
   "metadata": {},
   "outputs": [],
   "source": [
    "def get_datasets(kind: str):\n",
    "    dataset = datasets[kind]\n",
    "    \n",
    "    X_train = dataset[\"train\"][\"X\"]\n",
    "    y_train = dataset[\"train\"][\"y\"]\n",
    "    \n",
    "    X_val = dataset[\"val\"][\"X\"]\n",
    "    y_val = dataset[\"val\"][\"y\"]\n",
    "    \n",
    "    X_test = dataset[\"test\"][\"X\"]\n",
    "    y_test = dataset[\"test\"][\"y\"]\n",
    "\n",
    "    return X_train, y_train, X_val, y_val, X_test, y_test\n",
    "\n",
    "def combine_text(X):\n",
    "    X = X.copy() \n",
    "\n",
    "    combined = X[\"resume_text\"].astype(str) + \" [SEP] \" + X[\"job_description_text\"].astype(str)\n",
    "\n",
    "    return combined.values\n"
   ]
  },
  {
   "cell_type": "markdown",
   "id": "969c464c",
   "metadata": {},
   "source": [
    "## Binary Classification"
   ]
  },
  {
   "cell_type": "code",
   "execution_count": 6,
   "id": "35bb5ee5",
   "metadata": {},
   "outputs": [],
   "source": [
    "from utils import ExperimentManager, Experiment\n",
    "\n",
    "CLASSIFICATION_TYPE = \"binary\"\n",
    "\n",
    "manager = ExperimentManager(f\"../runs/{CLASSIFICATION_TYPE}/{MODEL_TYPE}\")\n",
    "X_train, y_train, X_val, y_val, X_test, y_test = get_datasets(CLASSIFICATION_TYPE)"
   ]
  },
  {
   "cell_type": "markdown",
   "id": "2b5f8edb",
   "metadata": {},
   "source": [
    "### Baseline with default scikit-learn random forest and no optimization"
   ]
  },
  {
   "cell_type": "code",
   "execution_count": 7,
   "id": "4e109444",
   "metadata": {},
   "outputs": [
    {
     "name": "stdout",
     "output_type": "stream",
     "text": [
      "\n",
      "=== Running Experiment: Baseline binary RandomForest ===\n",
      "\n",
      "--- Validation Evaluation ---\n",
      "Accuracy: 0.6919\n",
      "Macro F1: 0.6914\n",
      "Micro F1: 0.6919\n",
      "\n",
      "Confusion Matrix:\n",
      "[[683 247]\n",
      " [326 604]]\n",
      "\n",
      "Classfication Report:\n",
      "              precision    recall  f1-score   support\n",
      "\n",
      "           0     0.6769    0.7344    0.7045       930\n",
      "           1     0.7098    0.6495    0.6783       930\n",
      "\n",
      "    accuracy                         0.6919      1860\n",
      "   macro avg     0.6933    0.6919    0.6914      1860\n",
      "weighted avg     0.6933    0.6919    0.6914      1860\n",
      "\n",
      "\n",
      "--- Test Evaluation ---\n",
      "Accuracy: 0.6424\n",
      "Macro F1: 0.6419\n",
      "Micro F1: 0.6424\n",
      "\n",
      "Confusion Matrix:\n",
      "[[582 275]\n",
      " [338 519]]\n",
      "\n",
      "Classfication Report:\n",
      "              precision    recall  f1-score   support\n",
      "\n",
      "           0     0.6326    0.6791    0.6550       857\n",
      "           1     0.6537    0.6056    0.6287       857\n",
      "\n",
      "    accuracy                         0.6424      1714\n",
      "   macro avg     0.6431    0.6424    0.6419      1714\n",
      "weighted avg     0.6431    0.6424    0.6419      1714\n",
      "\n",
      "\n",
      "✅ Experiment 'Baseline binary RandomForest' completed and logged.\n",
      "\n"
     ]
    },
    {
     "data": {
      "text/plain": [
       "<utils.ExperimentManger.Experiment at 0x7fc42194f140>"
      ]
     },
     "execution_count": 7,
     "metadata": {},
     "output_type": "execute_result"
    }
   ],
   "source": [
    "pipe = Pipeline([\n",
    "    (\"join\", FunctionTransformer(combine_text, validate=False)),\n",
    "    (\"vec\", TfidfVectorizer()),\n",
    "    (\"clf\", RandomForestClassifier(random_state=SEED))\n",
    "])\n",
    "\n",
    "def pipeline_factory(params):\n",
    "    # Since we’re not using params here, we just return the static pipeline\n",
    "    return pipe\n",
    "\n",
    "experiment = Experiment(\n",
    "    name=f\"Baseline {CLASSIFICATION_TYPE} {MODEL_TYPE}\",\n",
    "    description=f\"{CLASSIFICATION_TYPE} {MODEL_TYPE} with TF-IDF and no hyperparameter tuning.\",\n",
    "    pipeline_factory=pipeline_factory,\n",
    "    splits=[(X_val, y_val), (X_test, y_test)],\n",
    "    split_names=[\"Validation\", \"Test\"]\n",
    ")\n",
    "\n",
    "manager.run_experiment(experiment, train_data=(X_train, y_train))\n"
   ]
  },
  {
   "cell_type": "markdown",
   "id": "ff777210",
   "metadata": {},
   "source": [
    "## Multiclass Classification"
   ]
  },
  {
   "cell_type": "code",
   "execution_count": 8,
   "id": "85ddb4a2",
   "metadata": {},
   "outputs": [],
   "source": [
    "from utils import ExperimentManager, Experiment\n",
    "\n",
    "CLASSIFICATION_TYPE = \"multiclass\"\n",
    "\n",
    "manager = ExperimentManager(f\"../runs/{CLASSIFICATION_TYPE}/{MODEL_TYPE}\")\n",
    "X_train, y_train, X_val, y_val, X_test, y_test = get_datasets(CLASSIFICATION_TYPE)"
   ]
  },
  {
   "cell_type": "markdown",
   "id": "23da8ee2",
   "metadata": {},
   "source": [
    "### Baseline with default scikit-learn random forest and no optimization"
   ]
  },
  {
   "cell_type": "code",
   "execution_count": 9,
   "id": "3fb0d613",
   "metadata": {},
   "outputs": [
    {
     "name": "stdout",
     "output_type": "stream",
     "text": [
      "\n",
      "=== Running Experiment: Baseline multiclass RandomForest ===\n",
      "\n",
      "--- Validation Evaluation ---\n",
      "Accuracy: 0.6019\n",
      "Macro F1: 0.5968\n",
      "Micro F1: 0.6019\n",
      "\n",
      "Confusion Matrix:\n",
      "[[346  49  68]\n",
      " [120 220 123]\n",
      " [ 88 105 270]]\n",
      "\n",
      "Classfication Report:\n",
      "              precision    recall  f1-score   support\n",
      "\n",
      "           0     0.6245    0.7473    0.6804       463\n",
      "           1     0.5882    0.4752    0.5257       463\n",
      "           2     0.5857    0.5832    0.5844       463\n",
      "\n",
      "    accuracy                         0.6019      1389\n",
      "   macro avg     0.5995    0.6019    0.5968      1389\n",
      "weighted avg     0.5995    0.6019    0.5968      1389\n",
      "\n",
      "\n",
      "--- Test Evaluation ---\n",
      "Accuracy: 0.4550\n",
      "Macro F1: 0.4546\n",
      "Micro F1: 0.4550\n",
      "\n",
      "Confusion Matrix:\n",
      "[[183  91 170]\n",
      " [103 230 111]\n",
      " [ 84 167 193]]\n",
      "\n",
      "Classfication Report:\n",
      "              precision    recall  f1-score   support\n",
      "\n",
      "           0     0.4946    0.4122    0.4496       444\n",
      "           1     0.4713    0.5180    0.4936       444\n",
      "           2     0.4072    0.4347    0.4205       444\n",
      "\n",
      "    accuracy                         0.4550      1332\n",
      "   macro avg     0.4577    0.4550    0.4546      1332\n",
      "weighted avg     0.4577    0.4550    0.4546      1332\n",
      "\n",
      "\n",
      "✅ Experiment 'Baseline multiclass RandomForest' completed and logged.\n",
      "\n"
     ]
    },
    {
     "data": {
      "text/plain": [
       "<utils.ExperimentManger.Experiment at 0x7fc4212d3a40>"
      ]
     },
     "execution_count": 9,
     "metadata": {},
     "output_type": "execute_result"
    }
   ],
   "source": [
    "pipe = Pipeline([\n",
    "    (\"join\", FunctionTransformer(combine_text, validate=False)),\n",
    "    (\"vec\", TfidfVectorizer()),\n",
    "    (\"clf\", RandomForestClassifier(random_state=SEED))\n",
    "])\n",
    "\n",
    "def pipeline_factory(params):\n",
    "    # Since we’re not using params here, we just return the static pipeline\n",
    "    return pipe\n",
    "\n",
    "experiment = Experiment(\n",
    "    name=f\"Baseline {CLASSIFICATION_TYPE} {MODEL_TYPE}\",\n",
    "    description=f\"{CLASSIFICATION_TYPE} {MODEL_TYPE} with TF-IDF and no hyperparameter tuning.\",\n",
    "    pipeline_factory=pipeline_factory,\n",
    "    splits=[(X_val, y_val), (X_test, y_test)],\n",
    "    split_names=[\"Validation\", \"Test\"]\n",
    ")\n",
    "\n",
    "manager.run_experiment(experiment, train_data=(X_train, y_train))\n"
   ]
  }
 ],
 "metadata": {
  "kernelspec": {
   "display_name": "304",
   "language": "python",
   "name": "python3"
  },
  "language_info": {
   "codemirror_mode": {
    "name": "ipython",
    "version": 3
   },
   "file_extension": ".py",
   "mimetype": "text/x-python",
   "name": "python",
   "nbconvert_exporter": "python",
   "pygments_lexer": "ipython3",
   "version": "3.12.11"
  }
 },
 "nbformat": 4,
 "nbformat_minor": 5
}
