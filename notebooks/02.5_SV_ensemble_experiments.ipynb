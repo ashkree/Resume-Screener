{
 "cells": [
  {
   "cell_type": "code",
   "execution_count": 1,
   "id": "8169ab8b",
   "metadata": {},
   "outputs": [],
   "source": [
    "import sys\n",
    "sys.path.append('..')"
   ]
  },
  {
   "cell_type": "markdown",
   "id": "70956af3",
   "metadata": {},
   "source": [
    "# Data Loading"
   ]
  },
  {
   "cell_type": "code",
   "execution_count": 2,
   "id": "43c1f36f",
   "metadata": {},
   "outputs": [
    {
     "name": "stdout",
     "output_type": "stream",
     "text": [
      "binary     train  X shape = (4336, 2),  y len = 4336\n",
      "binary     val    X shape = (1860, 2),  y len = 1860\n",
      "binary     test   X shape = (1714, 2),  y len = 1714\n",
      "multiclass train  X shape = (3237, 2),  y len = 3237\n",
      "multiclass val    X shape = (1389, 2),  y len = 1389\n",
      "multiclass test   X shape = (1332, 2),  y len = 1332\n"
     ]
    }
   ],
   "source": [
    "from pathlib import Path\n",
    "import pandas as pd\n",
    "\n",
    "def load_datasets(data_root: str | Path = \"data\",\n",
    "                  tasks: tuple[str, ...] = (\"binary\", \"multiclass\"),\n",
    "                  splits: tuple[str, ...] = (\"train\", \"val\", \"test\")) -> dict:\n",
    "\n",
    "    data_root = Path(data_root)\n",
    "    datasets  = {}\n",
    "\n",
    "    for task in tasks:\n",
    "        task_dir     = data_root / task\n",
    "        task_dict    = {}\n",
    "\n",
    "        for split in splits:\n",
    "            split_dict = {}\n",
    "            for kind in (\"X\", \"y\"):\n",
    "                file_path = task_dir / f\"{kind}_{split}.pkl\"\n",
    "                split_dict[kind] = pd.read_pickle(file_path)\n",
    "            task_dict[split] = split_dict\n",
    "\n",
    "        datasets[task] = task_dict\n",
    "\n",
    "    return datasets\n",
    "\n",
    "\n",
    "# ── usage ────────────────────────────────────────────────────────\n",
    "datasets = load_datasets(\"../data\")\n",
    "\n",
    "# quick sanity-check\n",
    "for task, splits in datasets.items():\n",
    "    for split, obj in splits.items():\n",
    "        print(f\"{task:<10} {split:<5}  X shape = {obj['X'].shape},  y len = {len(obj['y'])}\")"
   ]
  },
  {
   "cell_type": "markdown",
   "id": "bd5ac5e9",
   "metadata": {},
   "source": [
    "# Experiments"
   ]
  },
  {
   "cell_type": "code",
   "execution_count": 7,
   "id": "0a850298",
   "metadata": {},
   "outputs": [],
   "source": [
    "from sklearn.pipeline import Pipeline\n",
    "from sklearn.linear_model import LogisticRegression\n",
    "from sklearn.ensemble import RandomForestClassifier, VotingClassifier\n",
    "from sklearn.naive_bayes import BernoulliNB\n",
    "from sklearn.preprocessing import FunctionTransformer\n",
    "from sklearn.feature_extraction.text import TfidfVectorizer"
   ]
  },
  {
   "cell_type": "code",
   "execution_count": 8,
   "id": "88f245a6",
   "metadata": {},
   "outputs": [],
   "source": [
    "MODEL_TYPE = \"Soft Voting Ensemble\"\n",
    "SEED = 42"
   ]
  },
  {
   "cell_type": "code",
   "execution_count": 9,
   "id": "818c1408",
   "metadata": {},
   "outputs": [],
   "source": [
    "def get_datasets(kind: str):\n",
    "    dataset = datasets[kind]\n",
    "    \n",
    "    X_train = dataset[\"train\"][\"X\"]\n",
    "    y_train = dataset[\"train\"][\"y\"]\n",
    "    \n",
    "    X_val = dataset[\"val\"][\"X\"]\n",
    "    y_val = dataset[\"val\"][\"y\"]\n",
    "    \n",
    "    X_test = dataset[\"test\"][\"X\"]\n",
    "    y_test = dataset[\"test\"][\"y\"]\n",
    "\n",
    "    return X_train, y_train, X_val, y_val, X_test, y_test\n",
    "\n",
    "def combine_text(X):\n",
    "    X = X.copy() \n",
    "\n",
    "    combined = X[\"resume_text\"].astype(str) + \" [SEP] \" + X[\"job_description_text\"].astype(str)\n",
    "\n",
    "    return combined.values"
   ]
  },
  {
   "cell_type": "markdown",
   "id": "c61af9bb",
   "metadata": {},
   "source": [
    "## Binary Classification"
   ]
  },
  {
   "cell_type": "code",
   "execution_count": 14,
   "id": "9cb1c370",
   "metadata": {},
   "outputs": [],
   "source": [
    "from utils import ExperimentManager, Experiment\n",
    "\n",
    "CLASSIFICATION_TYPE = \"binary\"\n",
    "\n",
    "manager = ExperimentManager(f\"../runs/{CLASSIFICATION_TYPE}/{MODEL_TYPE}\", [\"Fit\", \"Not Fit\"])\n",
    "X_train, y_train, X_val, y_val, X_test, y_test = get_datasets(CLASSIFICATION_TYPE)\n",
    "\n",
    "splits = ((X_train, y_train), (X_val, y_val), (X_test, y_test))"
   ]
  },
  {
   "cell_type": "markdown",
   "id": "d85d9c76",
   "metadata": {},
   "source": [
    "### Basline with default scikit learn parameters and no optimization using soft voting classifier"
   ]
  },
  {
   "cell_type": "code",
   "execution_count": 15,
   "id": "49002f67",
   "metadata": {},
   "outputs": [
    {
     "name": "stdout",
     "output_type": "stream",
     "text": [
      "\n",
      "=== Running Experiment: Baseline binary Soft Voting Ensemble ===\n",
      "\n",
      "============================================================\n",
      "🎯 TEST SET EVALUATION RESULTS\n",
      "============================================================\n",
      "\n",
      "📊 OVERVIEW\n",
      "   Test Samples: 1,714\n",
      "   Classes: 2\n",
      "   Overall Accuracy: 0.6044\n",
      "\n",
      "🎯 MAIN PERFORMANCE METRICS\n",
      "   Macro F1:     0.6022\n",
      "   Micro F1:     0.6044\n",
      "   Weighted F1:  0.6022\n",
      "\n",
      "📈 PRECISION/RECALL SUMMARY\n",
      "   Macro    - P: 0.6068  R: 0.6044\n",
      "   Micro    - P: 0.6044  R: 0.6044\n",
      "   Weighted - P: 0.6068  R: 0.6044\n",
      "\n",
      "📋 DETAILED CLASSIFICATION REPORT\n",
      "   Class             Precision     Recall   F1-Score    Support\n",
      "   ---------------- ---------- ---------- ---------- ----------\n",
      "   Fit                  0.5909     0.6791     0.6319        857\n",
      "   Not Fit              0.6228     0.5298     0.5725        857\n",
      "   ---------------- ---------- ---------- ---------- ----------\n",
      "   macro avg            0.6068     0.6044     0.6022       1714\n",
      "   weighted avg         0.6068     0.6044     0.6022       1714\n",
      "\n",
      "🔢 CONFUSION MATRIX\n",
      "   Rows: True Labels, Columns: Predicted Labels\n",
      "   Predicted →\n",
      "   True ↓        Fit  Not Fit \n",
      "   Fit           582      275 \n",
      "   Not Fit       403      454 \n",
      "\n",
      "============================================================\n",
      "💾 Finalizing experiment...\n",
      "\n",
      "✅ Experiment 'Baseline binary Soft Voting Ensemble' completed and logged.\n",
      "\n"
     ]
    },
    {
     "data": {
      "text/plain": [
       "<utils.ExperimentManger.Experiment at 0x7fde95fbfe90>"
      ]
     },
     "execution_count": 15,
     "metadata": {},
     "output_type": "execute_result"
    }
   ],
   "source": [
    "clf_lr = LogisticRegression(random_state=SEED)\n",
    "clf_rf = RandomForestClassifier(random_state=SEED)\n",
    "clf_nb = BernoulliNB()\n",
    "\n",
    "voting_clf = VotingClassifier(\n",
    "    estimators=[\n",
    "        ('lr', clf_lr),\n",
    "        ('nb', clf_nb),\n",
    "        ('rf', clf_rf)\n",
    "    ],\n",
    "    voting=\"soft\",\n",
    "    n_jobs=-1\n",
    ")\n",
    "\n",
    "# Pipeline\n",
    "pipe = Pipeline([\n",
    "    (\"join\", FunctionTransformer(combine_text, validate=False)),\n",
    "    ('tfidf', TfidfVectorizer()),  # Convert text to numeric\n",
    "    ('clf', voting_clf)  \n",
    "])\n",
    "\n",
    "def pipeline_factory(params):\n",
    "    # Since we’re not using params here, we just return the static pipeline\n",
    "    return pipe\n",
    "\n",
    "experiment = Experiment(\n",
    "    name=f\"Baseline {CLASSIFICATION_TYPE} {MODEL_TYPE}\",\n",
    "    description=f\"{CLASSIFICATION_TYPE} {MODEL_TYPE} with TF-IDF and no hyperparameter tuning.\",\n",
    "    pipeline_factory=pipeline_factory\n",
    ")\n",
    "\n",
    "manager.run_experiment(experiment, splits=splits)"
   ]
  },
  {
   "cell_type": "markdown",
   "id": "83b08007",
   "metadata": {},
   "source": [
    "## Multiclass Classification"
   ]
  },
  {
   "cell_type": "code",
   "execution_count": 16,
   "id": "5fb578f9",
   "metadata": {},
   "outputs": [],
   "source": [
    "from utils import ExperimentManager, Experiment\n",
    "\n",
    "CLASSIFICATION_TYPE = \"multiclass\"\n",
    "\n",
    "manager = ExperimentManager(f\"../runs/{CLASSIFICATION_TYPE}/{MODEL_TYPE}\", [\"Good Fit\", \"Potential Fit\", \"Not Fit\"])\n",
    "X_train, y_train, X_val, y_val, X_test, y_test = get_datasets(CLASSIFICATION_TYPE)\n",
    "\n",
    "splits = ((X_train, y_train), (X_val, y_val), (X_test, y_test))"
   ]
  },
  {
   "cell_type": "code",
   "execution_count": null,
   "id": "f2b3c59c",
   "metadata": {},
   "outputs": [
    {
     "name": "stdout",
     "output_type": "stream",
     "text": [
      "\n",
      "=== Running Experiment: Baseline multiclass Soft Voting Ensemble ===\n",
      "\n",
      "============================================================\n",
      "🎯 TEST SET EVALUATION RESULTS\n",
      "============================================================\n",
      "\n",
      "📊 OVERVIEW\n",
      "   Test Samples: 1,332\n",
      "   Classes: 3\n",
      "   Overall Accuracy: 0.4520\n",
      "\n",
      "🎯 MAIN PERFORMANCE METRICS\n",
      "   Macro F1:     0.4519\n",
      "   Micro F1:     0.4520\n",
      "   Weighted F1:  0.4519\n",
      "\n",
      "📈 PRECISION/RECALL SUMMARY\n",
      "   Macro    - P: 0.4523  R: 0.4520\n",
      "   Micro    - P: 0.4520  R: 0.4520\n",
      "   Weighted - P: 0.4523  R: 0.4520\n",
      "\n",
      "📋 DETAILED CLASSIFICATION REPORT\n",
      "   Class             Precision     Recall   F1-Score    Support\n",
      "   ---------------- ---------- ---------- ---------- ----------\n",
      "   Good Fit             0.4404     0.4662     0.4530        444\n",
      "   Not Fit              0.4372     0.4234     0.4302        444\n",
      "   Potential Fit        0.4792     0.4662     0.4726        444\n",
      "   ---------------- ---------- ---------- ---------- ----------\n",
      "   macro avg            0.4523     0.4520     0.4519       1332\n",
      "   weighted avg         0.4523     0.4520     0.4519       1332\n",
      "\n",
      "🔢 CONFUSION MATRIX\n",
      "   Rows: True Labels, Columns: Predicted Labels\n",
      "   Predicted →\n",
      "   True ↓   Good Fit Potentia  Not Fit \n",
      "   Good Fit      207      100      137 \n",
      "   Potentia      132      207      105 \n",
      "   Not Fit       131      125      188 \n",
      "\n",
      "============================================================\n",
      "💾 Finalizing experiment...\n",
      "\n",
      "✅ Experiment 'Baseline multiclass Soft Voting Ensemble' completed and logged.\n",
      "\n"
     ]
    },
    {
     "data": {
      "text/plain": [
       "<utils.ExperimentManger.Experiment at 0x7fde954ca7e0>"
      ]
     },
     "execution_count": 18,
     "metadata": {},
     "output_type": "execute_result"
    },
    {
     "name": "stderr",
     "output_type": "stream",
     "text": [
      "Exception ignored in: <function ResourceTracker.__del__ at 0x7f0b69d7a980>\n",
      "Traceback (most recent call last):\n",
      "  File \"/home/maveron/.conda/envs/304/lib/python3.12/multiprocessing/resource_tracker.py\", line 77, in __del__\n",
      "  File \"/home/maveron/.conda/envs/304/lib/python3.12/multiprocessing/resource_tracker.py\", line 86, in _stop\n",
      "  File \"/home/maveron/.conda/envs/304/lib/python3.12/multiprocessing/resource_tracker.py\", line 111, in _stop_locked\n",
      "ChildProcessError: [Errno 10] No child processes\n",
      "Exception ignored in: <function ResourceTracker.__del__ at 0x7f02a737e980>\n",
      "Traceback (most recent call last):\n",
      "  File \"/home/maveron/.conda/envs/304/lib/python3.12/multiprocessing/resource_tracker.py\", line 77, in __del__\n",
      "  File \"/home/maveron/.conda/envs/304/lib/python3.12/multiprocessing/resource_tracker.py\", line 86, in _stop\n",
      "  File \"/home/maveron/.conda/envs/304/lib/python3.12/multiprocessing/resource_tracker.py\", line 111, in _stop_locked\n",
      "ChildProcessError: [Errno 10] No child processes\n",
      "Exception ignored in: <function ResourceTracker.__del__ at 0x7f5c97582980>\n",
      "Traceback (most recent call last):\n",
      "  File \"/home/maveron/.conda/envs/304/lib/python3.12/multiprocessing/resource_tracker.py\", line 77, in __del__\n",
      "  File \"/home/maveron/.conda/envs/304/lib/python3.12/multiprocessing/resource_tracker.py\", line 86, in _stop\n",
      "  File \"/home/maveron/.conda/envs/304/lib/python3.12/multiprocessing/resource_tracker.py\", line 111, in _stop_locked\n",
      "ChildProcessError: [Errno 10] No child processes\n",
      "Exception ignored in: <function ResourceTracker.__del__ at 0x7f569037e980>\n",
      "Traceback (most recent call last):\n",
      "  File \"/home/maveron/.conda/envs/304/lib/python3.12/multiprocessing/resource_tracker.py\", line 77, in __del__\n",
      "  File \"/home/maveron/.conda/envs/304/lib/python3.12/multiprocessing/resource_tracker.py\", line 86, in _stop\n",
      "  File \"/home/maveron/.conda/envs/304/lib/python3.12/multiprocessing/resource_tracker.py\", line 111, in _stop_locked\n",
      "ChildProcessError: [Errno 10] No child processes\n",
      "Exception ignored in: <function ResourceTracker.__del__ at 0x7f58ecd72980>\n",
      "Traceback (most recent call last):\n",
      "  File \"/home/maveron/.conda/envs/304/lib/python3.12/multiprocessing/resource_tracker.py\", line 77, in __del__\n",
      "  File \"/home/maveron/.conda/envs/304/lib/python3.12/multiprocessing/resource_tracker.py\", line 86, in _stop\n",
      "  File \"/home/maveron/.conda/envs/304/lib/python3.12/multiprocessing/resource_tracker.py\", line 111, in _stop_locked\n",
      "ChildProcessError: [Errno 10] No child processes\n",
      "Exception ignored in: <function ResourceTracker.__del__ at 0x7f7b7e38a980>\n",
      "Traceback (most recent call last):\n",
      "  File \"/home/maveron/.conda/envs/304/lib/python3.12/multiprocessing/resource_tracker.py\", line 77, in __del__\n",
      "  File \"/home/maveron/.conda/envs/304/lib/python3.12/multiprocessing/resource_tracker.py\", line 86, in _stop\n",
      "  File \"/home/maveron/.conda/envs/304/lib/python3.12/multiprocessing/resource_tracker.py\", line 111, in _stop_locked\n",
      "ChildProcessError: [Errno 10] No child processes\n",
      "Exception ignored in: <function ResourceTracker.__del__ at 0x7f7513d7e980>\n",
      "Traceback (most recent call last):\n",
      "  File \"/home/maveron/.conda/envs/304/lib/python3.12/multiprocessing/resource_tracker.py\", line 77, in __del__\n",
      "  File \"/home/maveron/.conda/envs/304/lib/python3.12/multiprocessing/resource_tracker.py\", line 86, in _stop\n",
      "  File \"/home/maveron/.conda/envs/304/lib/python3.12/multiprocessing/resource_tracker.py\", line 111, in _stop_locked\n",
      "ChildProcessError: [Errno 10] No child processes\n",
      "Exception ignored in: <function ResourceTracker.__del__ at 0x7f11ba77e980>\n",
      "Traceback (most recent call last):\n",
      "  File \"/home/maveron/.conda/envs/304/lib/python3.12/multiprocessing/resource_tracker.py\", line 77, in __del__\n",
      "  File \"/home/maveron/.conda/envs/304/lib/python3.12/multiprocessing/resource_tracker.py\", line 86, in _stop\n",
      "  File \"/home/maveron/.conda/envs/304/lib/python3.12/multiprocessing/resource_tracker.py\", line 111, in _stop_locked\n",
      "ChildProcessError: [Errno 10] No child processes\n",
      "Exception ignored in: <function ResourceTracker.__del__ at 0x7fbb2c172980>\n",
      "Traceback (most recent call last):\n",
      "  File \"/home/maveron/.conda/envs/304/lib/python3.12/multiprocessing/resource_tracker.py\", line 77, in __del__\n",
      "  File \"/home/maveron/.conda/envs/304/lib/python3.12/multiprocessing/resource_tracker.py\", line 86, in _stop\n",
      "  File \"/home/maveron/.conda/envs/304/lib/python3.12/multiprocessing/resource_tracker.py\", line 111, in _stop_locked\n",
      "ChildProcessError: [Errno 10] No child processes\n",
      "Exception ignored in: <function ResourceTracker.__del__ at 0x7f4a92d82980>\n",
      "Traceback (most recent call last):\n",
      "  File \"/home/maveron/.conda/envs/304/lib/python3.12/multiprocessing/resource_tracker.py\", line 77, in __del__\n",
      "  File \"/home/maveron/.conda/envs/304/lib/python3.12/multiprocessing/resource_tracker.py\", line 86, in _stop\n",
      "  File \"/home/maveron/.conda/envs/304/lib/python3.12/multiprocessing/resource_tracker.py\", line 111, in _stop_locked\n",
      "ChildProcessError: [Errno 10] No child processes\n",
      "Exception ignored in: <function ResourceTracker.__del__ at 0x7f4901b7e980>\n",
      "Traceback (most recent call last):\n",
      "  File \"/home/maveron/.conda/envs/304/lib/python3.12/multiprocessing/resource_tracker.py\", line 77, in __del__\n",
      "  File \"/home/maveron/.conda/envs/304/lib/python3.12/multiprocessing/resource_tracker.py\", line 86, in _stop\n",
      "  File \"/home/maveron/.conda/envs/304/lib/python3.12/multiprocessing/resource_tracker.py\", line 111, in _stop_locked\n",
      "ChildProcessError: [Errno 10] No child processes\n",
      "Exception ignored in: <function ResourceTracker.__del__ at 0x7f89fbd76980>\n",
      "Traceback (most recent call last):\n",
      "  File \"/home/maveron/.conda/envs/304/lib/python3.12/multiprocessing/resource_tracker.py\", line 77, in __del__\n",
      "  File \"/home/maveron/.conda/envs/304/lib/python3.12/multiprocessing/resource_tracker.py\", line 86, in _stop\n",
      "  File \"/home/maveron/.conda/envs/304/lib/python3.12/multiprocessing/resource_tracker.py\", line 111, in _stop_locked\n",
      "ChildProcessError: [Errno 10] No child processes\n"
     ]
    }
   ],
   "source": [
    "clf_lr = LogisticRegression(random_state=SEED)\n",
    "clf_rf = RandomForestClassifier(random_state=SEED)\n",
    "clf_nb = BernoulliNB()\n",
    "\n",
    "voting_clf = VotingClassifier(\n",
    "    estimators=[\n",
    "        ('lr', clf_lr),\n",
    "        ('nb', clf_nb),\n",
    "        ('rf', clf_rf)\n",
    "    ],\n",
    "    voting=\"soft\",\n",
    "    n_jobs=-1\n",
    ")\n",
    "\n",
    "# Pipeline\n",
    "pipe = Pipeline([\n",
    "    (\"join\", FunctionTransformer(combine_text, validate=False)),\n",
    "    ('tfidf', TfidfVectorizer()),  # Convert text to numeric\n",
    "    ('clf', voting_clf)  \n",
    "])\n",
    "\n",
    "def pipeline_factory(params):\n",
    "    # Since we’re not using params here, we just return the static pipeline\n",
    "    return pipe\n",
    "\n",
    "experiment = Experiment(\n",
    "    name=f\"Baseline {CLASSIFICATION_TYPE} {MODEL_TYPE}\",\n",
    "    description=f\"{CLASSIFICATION_TYPE} {MODEL_TYPE} with TF-IDF and no hyperparameter tuning.\",\n",
    "    pipeline_factory=pipeline_factory\n",
    ")\n",
    "\n",
    "manager.run_experiment(experiment, splits=splits)"
   ]
  },
  {
   "cell_type": "code",
   "execution_count": null,
   "id": "37d60420",
   "metadata": {},
   "outputs": [],
   "source": []
  }
 ],
 "metadata": {
  "kernelspec": {
   "display_name": "304",
   "language": "python",
   "name": "python3"
  },
  "language_info": {
   "codemirror_mode": {
    "name": "ipython",
    "version": 3
   },
   "file_extension": ".py",
   "mimetype": "text/x-python",
   "name": "python",
   "nbconvert_exporter": "python",
   "pygments_lexer": "ipython3",
   "version": "3.12.11"
  }
 },
 "nbformat": 4,
 "nbformat_minor": 5
}
