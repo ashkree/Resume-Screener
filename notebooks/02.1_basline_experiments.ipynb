{
 "cells": [
  {
   "cell_type": "code",
   "execution_count": null,
   "id": "98a2da2b",
   "metadata": {},
   "outputs": [],
   "source": [
    "from sklearn.metrics import classification_report, balanced_accuracy_score\n",
    "from sklearn.model_selection import train_test_split, cross_val_score\n",
    "from pathlib import Path\n",
    "import pandas as pd\n",
    "import numpy as np\n",
    "import random, os"
   ]
  },
  {
   "cell_type": "code",
   "execution_count": 6,
   "id": "1e2f8017",
   "metadata": {},
   "outputs": [],
   "source": [
    "RNG = 42\n",
    "np.random.seed(RNG)\n",
    "random.seed(RNG)\n",
    "os.environ[\"PYTHONHASHSEED\"] = str(RNG)"
   ]
  },
  {
   "cell_type": "code",
   "execution_count": 7,
   "id": "17715201",
   "metadata": {},
   "outputs": [
    {
     "name": "stdout",
     "output_type": "stream",
     "text": [
      "binary     train  X shape = (4336, 2),  y len = 4336\n",
      "binary     val    X shape = (1860, 2),  y len = 1860\n",
      "binary     test   X shape = (1714, 2),  y len = 1714\n",
      "multiclass train  X shape = (3237, 2),  y len = 3237\n",
      "multiclass val    X shape = (1389, 2),  y len = 1389\n",
      "multiclass test   X shape = (1332, 2),  y len = 1332\n"
     ]
    }
   ],
   "source": [
    "def load_datasets(data_root: str | Path = \"data\",\n",
    "                  tasks: tuple[str, ...] = (\"binary\", \"multiclass\"),\n",
    "                  splits: tuple[str, ...] = (\"train\", \"val\", \"test\")) -> dict:\n",
    "\n",
    "    data_root = Path(data_root)\n",
    "    datasets  = {}\n",
    "\n",
    "    for task in tasks:\n",
    "        task_dir     = data_root / task\n",
    "        task_dict    = {}\n",
    "\n",
    "        for split in splits:\n",
    "            split_dict = {}\n",
    "            for kind in (\"X\", \"y\"):\n",
    "                file_path = task_dir / f\"{kind}_{split}.pkl\"\n",
    "                split_dict[kind] = pd.read_pickle(file_path)\n",
    "            task_dict[split] = split_dict\n",
    "\n",
    "        datasets[task] = task_dict\n",
    "\n",
    "    return datasets\n",
    "\n",
    "\n",
    "# ── usage ────────────────────────────────────────────────────────\n",
    "datasets = load_datasets(\"../data\")\n",
    "\n",
    "# quick sanity-check\n",
    "for task, splits in datasets.items():\n",
    "    for split, obj in splits.items():\n",
    "        print(f\"{task:<10} {split:<5}  X shape = {obj['X'].shape},  y len = {len(obj['y'])}\")"
   ]
  },
  {
   "cell_type": "code",
   "execution_count": 10,
   "id": "5b7b9387",
   "metadata": {},
   "outputs": [],
   "source": [
    "# Define a dummy classifier\n",
    "\n",
    "\n",
    "from sklearn.pipeline import Pipeline\n",
    "from sklearn.preprocessing import FunctionTransformer\n",
    "from sklearn.dummy import DummyClassifier\n",
    "\n",
    "# ── helper to merge the two text columns ───────────────────────\n",
    "def join_cv_jd(df: pd.DataFrame) -> np.ndarray:\n",
    "    \"\"\"Return 1-D array of concatenated CV + JD strings.\"\"\"\n",
    "    return (df[\"resume_text\"] + \" [SEP] \" + df[\"job_description_text\"]).values\n",
    "    # keep .values so downstream transformer gets ndarray\n",
    "\n",
    "# ── NO-OP vectoriser for the baseline ──────────────────────────\n",
    "def make_dummy_features(x):\n",
    "    \"\"\"Ignore contents → emit a column of zeros (shape = [n_samples, 1]).\"\"\"\n",
    "    return np.zeros((x.shape[0], 1))\n",
    "\n",
    "NOOP_VECTORISER = FunctionTransformer(make_dummy_features, validate=False)\n",
    "\n",
    "# ── generic pipeline (join → vec → clf) ────────────────────────\n",
    "base_pipe = Pipeline([\n",
    "    (\"join\", FunctionTransformer(join_cv_jd, validate=False)),\n",
    "    (\"vec\",  NOOP_VECTORISER),                 # placeholder\n",
    "    (\"clf\",  DummyClassifier(strategy=\"most_frequent\"))\n",
    "])"
   ]
  },
  {
   "cell_type": "code",
   "execution_count": 11,
   "id": "5e35d02f",
   "metadata": {},
   "outputs": [
    {
     "name": "stdout",
     "output_type": "stream",
     "text": [
      "===== Baseline for binary classification =====\n",
      "Test accuracy: 0.5\n",
      "===== Baseline for multiclass classification =====\n",
      "Test accuracy: 0.3333333333333333\n"
     ]
    }
   ],
   "source": [
    "for kind, splits in datasets.items():\n",
    "\n",
    "    print(f\"{'='*5} Baseline for {kind} classification {'='*5}\")\n",
    "\n",
    "    X_train = splits[\"train\"][\"X\"]\n",
    "    y_train = splits[\"train\"][\"y\"]\n",
    "    X_test = splits[\"test\"][\"X\"]\n",
    "    y_test = splits[\"test\"][\"y\"]\n",
    "\n",
    "    base_pipe.fit(X_train, y_train)\n",
    "    print(\"Test accuracy:\", base_pipe.score(X_test, y_test))"
   ]
  }
 ],
 "metadata": {
  "kernelspec": {
   "display_name": "304",
   "language": "python",
   "name": "python3"
  },
  "language_info": {
   "codemirror_mode": {
    "name": "ipython",
    "version": 3
   },
   "file_extension": ".py",
   "mimetype": "text/x-python",
   "name": "python",
   "nbconvert_exporter": "python",
   "pygments_lexer": "ipython3",
   "version": "3.13.4"
  }
 },
 "nbformat": 4,
 "nbformat_minor": 5
}
