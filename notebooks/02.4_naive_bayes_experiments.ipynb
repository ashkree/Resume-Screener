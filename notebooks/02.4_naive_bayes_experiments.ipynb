{
 "cells": [
  {
   "cell_type": "code",
   "execution_count": 1,
   "id": "c412c39f",
   "metadata": {},
   "outputs": [],
   "source": [
    "import sys\n",
    "sys.path.append('..')"
   ]
  },
  {
   "cell_type": "markdown",
   "id": "476256f4",
   "metadata": {},
   "source": [
    "# Data Loading"
   ]
  },
  {
   "cell_type": "code",
   "execution_count": 2,
   "id": "26a18881",
   "metadata": {},
   "outputs": [
    {
     "name": "stdout",
     "output_type": "stream",
     "text": [
      "binary     train  X shape = (4336, 2),  y len = 4336\n",
      "binary     val    X shape = (1860, 2),  y len = 1860\n",
      "binary     test   X shape = (1714, 2),  y len = 1714\n",
      "multiclass train  X shape = (3237, 2),  y len = 3237\n",
      "multiclass val    X shape = (1389, 2),  y len = 1389\n",
      "multiclass test   X shape = (1332, 2),  y len = 1332\n"
     ]
    }
   ],
   "source": [
    "from pathlib import Path\n",
    "import pandas as pd\n",
    "\n",
    "def load_datasets(data_root: str | Path = \"data\",\n",
    "                  tasks: tuple[str, ...] = (\"binary\", \"multiclass\"),\n",
    "                  splits: tuple[str, ...] = (\"train\", \"val\", \"test\")) -> dict:\n",
    "\n",
    "    data_root = Path(data_root)\n",
    "    datasets  = {}\n",
    "\n",
    "    for task in tasks:\n",
    "        task_dir     = data_root / task\n",
    "        task_dict    = {}\n",
    "\n",
    "        for split in splits:\n",
    "            split_dict = {}\n",
    "            for kind in (\"X\", \"y\"):\n",
    "                file_path = task_dir / f\"{kind}_{split}.pkl\"\n",
    "                split_dict[kind] = pd.read_pickle(file_path)\n",
    "            task_dict[split] = split_dict\n",
    "\n",
    "        datasets[task] = task_dict\n",
    "\n",
    "    return datasets\n",
    "\n",
    "\n",
    "# ── usage ────────────────────────────────────────────────────────\n",
    "datasets = load_datasets(\"../data\")\n",
    "\n",
    "# quick sanity-check\n",
    "for task, splits in datasets.items():\n",
    "    for split, obj in splits.items():\n",
    "        print(f\"{task:<10} {split:<5}  X shape = {obj['X'].shape},  y len = {len(obj['y'])}\")"
   ]
  },
  {
   "cell_type": "markdown",
   "id": "84d02c18",
   "metadata": {},
   "source": [
    "# Experiments"
   ]
  },
  {
   "cell_type": "code",
   "execution_count": 3,
   "id": "f16a11bb",
   "metadata": {},
   "outputs": [],
   "source": [
    "from sklearn.pipeline import Pipeline\n",
    "from sklearn.preprocessing import FunctionTransformer\n",
    "from sklearn.feature_extraction.text import TfidfVectorizer\n",
    "from sklearn.naive_bayes import MultinomialNB"
   ]
  },
  {
   "cell_type": "code",
   "execution_count": 4,
   "id": "dfa18ba4",
   "metadata": {},
   "outputs": [],
   "source": [
    "MODEL_TYPE = \"NaiveBayes\"\n",
    "SEED = 42"
   ]
  },
  {
   "cell_type": "code",
   "execution_count": 5,
   "id": "fd073721",
   "metadata": {},
   "outputs": [],
   "source": [
    "def get_datasets(kind: str):\n",
    "    dataset = datasets[kind]\n",
    "    \n",
    "    X_train = dataset[\"train\"][\"X\"]\n",
    "    y_train = dataset[\"train\"][\"y\"]\n",
    "    \n",
    "    X_val = dataset[\"val\"][\"X\"]\n",
    "    y_val = dataset[\"val\"][\"y\"]\n",
    "    \n",
    "    X_test = dataset[\"test\"][\"X\"]\n",
    "    y_test = dataset[\"test\"][\"y\"]\n",
    "\n",
    "    return X_train, y_train, X_val, y_val, X_test, y_test\n",
    "\n",
    "def combine_text(X):\n",
    "    X = X.copy() \n",
    "\n",
    "    combined = X[\"resume_text\"].astype(str) + \" [SEP] \" + X[\"job_description_text\"].astype(str)\n",
    "\n",
    "    return combined.values\n"
   ]
  },
  {
   "cell_type": "markdown",
   "id": "2e377753",
   "metadata": {},
   "source": [
    "## Binary Classification"
   ]
  },
  {
   "cell_type": "code",
   "execution_count": 6,
   "id": "9a2dd0d9",
   "metadata": {},
   "outputs": [],
   "source": [
    "from utils import ExperimentManager, Experiment\n",
    "\n",
    "CLASSIFICATION_TYPE = \"binary\"\n",
    "\n",
    "manager = ExperimentManager(f\"../runs/{CLASSIFICATION_TYPE}/{MODEL_TYPE}\")\n",
    "X_train, y_train, X_val, y_val, X_test, y_test = get_datasets(CLASSIFICATION_TYPE)"
   ]
  },
  {
   "cell_type": "markdown",
   "id": "8f885bde",
   "metadata": {},
   "source": [
    "### Baseline with default scikit-learn naive bayes and no optimization"
   ]
  },
  {
   "cell_type": "code",
   "execution_count": 7,
   "id": "0750c5ae",
   "metadata": {},
   "outputs": [
    {
     "name": "stdout",
     "output_type": "stream",
     "text": [
      "\n",
      "=== Running Experiment: Baseline binary NaiveBayes ===\n",
      "\n",
      "--- Validation Evaluation ---\n",
      "Accuracy: 0.6527\n",
      "Macro F1: 0.6491\n",
      "Micro F1: 0.6527\n",
      "\n",
      "Confusion Matrix:\n",
      "[[701 229]\n",
      " [417 513]]\n",
      "\n",
      "Classfication Report:\n",
      "              precision    recall  f1-score   support\n",
      "\n",
      "           0     0.6270    0.7538    0.6846       930\n",
      "           1     0.6914    0.5516    0.6136       930\n",
      "\n",
      "    accuracy                         0.6527      1860\n",
      "   macro avg     0.6592    0.6527    0.6491      1860\n",
      "weighted avg     0.6592    0.6527    0.6491      1860\n",
      "\n",
      "\n",
      "--- Test Evaluation ---\n",
      "Accuracy: 0.5951\n",
      "Macro F1: 0.5930\n",
      "Micro F1: 0.5951\n",
      "\n",
      "Confusion Matrix:\n",
      "[[571 286]\n",
      " [408 449]]\n",
      "\n",
      "Classfication Report:\n",
      "              precision    recall  f1-score   support\n",
      "\n",
      "           0     0.5832    0.6663    0.6220       857\n",
      "           1     0.6109    0.5239    0.5641       857\n",
      "\n",
      "    accuracy                         0.5951      1714\n",
      "   macro avg     0.5971    0.5951    0.5930      1714\n",
      "weighted avg     0.5971    0.5951    0.5930      1714\n",
      "\n",
      "\n",
      "✅ Experiment 'Baseline binary NaiveBayes' completed and logged.\n",
      "\n"
     ]
    },
    {
     "data": {
      "text/plain": [
       "<utils.ExperimentManger.Experiment at 0x7f41c93bd520>"
      ]
     },
     "execution_count": 7,
     "metadata": {},
     "output_type": "execute_result"
    }
   ],
   "source": [
    "pipe = Pipeline([\n",
    "    (\"join\", FunctionTransformer(combine_text, validate=False)),\n",
    "    (\"vec\", TfidfVectorizer()),\n",
    "    (\"clf\", MultinomialNB())\n",
    "])\n",
    "\n",
    "def pipeline_factory(params):\n",
    "    # Since we’re not using params here, we just return the static pipeline\n",
    "    return pipe\n",
    "\n",
    "experiment = Experiment(\n",
    "    name=f\"Baseline {CLASSIFICATION_TYPE} {MODEL_TYPE}\",\n",
    "    description=f\"{CLASSIFICATION_TYPE} {MODEL_TYPE} with TF-IDF and no hyperparameter tuning.\",\n",
    "    pipeline_factory=pipeline_factory,\n",
    "    splits=[(X_val, y_val), (X_test, y_test)],\n",
    "    split_names=[\"Validation\", \"Test\"]\n",
    ")\n",
    "\n",
    "manager.run_experiment(experiment, train_data=(X_train, y_train))\n"
   ]
  },
  {
   "cell_type": "markdown",
   "id": "9ad9a9b2",
   "metadata": {},
   "source": [
    "## Multiclass Classification"
   ]
  },
  {
   "cell_type": "code",
   "execution_count": 8,
   "id": "f8e5968a",
   "metadata": {},
   "outputs": [],
   "source": [
    "from utils import ExperimentManager, Experiment\n",
    "\n",
    "CLASSIFICATION_TYPE = \"multiclass\"\n",
    "\n",
    "manager = ExperimentManager(f\"../runs/{CLASSIFICATION_TYPE}/{MODEL_TYPE}\")\n",
    "X_train, y_train, X_val, y_val, X_test, y_test = get_datasets(CLASSIFICATION_TYPE)"
   ]
  },
  {
   "cell_type": "markdown",
   "id": "aa19180e",
   "metadata": {},
   "source": [
    "### Baseline with default scikit-learn random forest and no optimization"
   ]
  },
  {
   "cell_type": "code",
   "execution_count": 9,
   "id": "78b539fb",
   "metadata": {},
   "outputs": [
    {
     "name": "stdout",
     "output_type": "stream",
     "text": [
      "\n",
      "=== Running Experiment: Baseline multiclass NaiveBayes ===\n",
      "\n",
      "--- Validation Evaluation ---\n",
      "Accuracy: 0.5241\n",
      "Macro F1: 0.5183\n",
      "Micro F1: 0.5241\n",
      "\n",
      "Confusion Matrix:\n",
      "[[310  57  96]\n",
      " [136 183 144]\n",
      " [126 102 235]]\n",
      "\n",
      "Classfication Report:\n",
      "              precision    recall  f1-score   support\n",
      "\n",
      "           0     0.5420    0.6695    0.5990       463\n",
      "           1     0.5351    0.3952    0.4547       463\n",
      "           2     0.4947    0.5076    0.5011       463\n",
      "\n",
      "    accuracy                         0.5241      1389\n",
      "   macro avg     0.5239    0.5241    0.5183      1389\n",
      "weighted avg     0.5239    0.5241    0.5183      1389\n",
      "\n",
      "\n",
      "--- Test Evaluation ---\n",
      "Accuracy: 0.4287\n",
      "Macro F1: 0.4248\n",
      "Micro F1: 0.4287\n",
      "\n",
      "Confusion Matrix:\n",
      "[[242  78 124]\n",
      " [155 181 108]\n",
      " [167 129 148]]\n",
      "\n",
      "Classfication Report:\n",
      "              precision    recall  f1-score   support\n",
      "\n",
      "           0     0.4291    0.5450    0.4802       444\n",
      "           1     0.4665    0.4077    0.4351       444\n",
      "           2     0.3895    0.3333    0.3592       444\n",
      "\n",
      "    accuracy                         0.4287      1332\n",
      "   macro avg     0.4283    0.4287    0.4248      1332\n",
      "weighted avg     0.4283    0.4287    0.4248      1332\n",
      "\n",
      "\n",
      "✅ Experiment 'Baseline multiclass NaiveBayes' completed and logged.\n",
      "\n"
     ]
    },
    {
     "data": {
      "text/plain": [
       "<utils.ExperimentManger.Experiment at 0x7f41c91ebec0>"
      ]
     },
     "execution_count": 9,
     "metadata": {},
     "output_type": "execute_result"
    }
   ],
   "source": [
    "\n",
    "# Pipeline\n",
    "pipe = Pipeline([\n",
    "    (\"join\", FunctionTransformer(combine_text, validate=False)),\n",
    "    ('tfidf', TfidfVectorizer()),  # Convert text to numeric\n",
    "    ('clf', MultinomialNB())  # Naive Bayes model (not LogisticRegression!)\n",
    "])\n",
    "\n",
    "def pipeline_factory(params):\n",
    "    # Since we're not using params here, we just return the static pipeline\n",
    "    return pipe\n",
    "\n",
    "experiment = Experiment(\n",
    "    name=f\"Baseline {CLASSIFICATION_TYPE} {MODEL_TYPE}\",\n",
    "    description=f\"{CLASSIFICATION_TYPE} {MODEL_TYPE} with TF-IDF and no hyperparameter tuning.\",\n",
    "    pipeline_factory=pipeline_factory,\n",
    "    splits=[(X_val, y_val), (X_test, y_test)],\n",
    "    split_names=[\"Validation\", \"Test\"]\n",
    ")\n",
    "\n",
    "manager.run_experiment(experiment, train_data=(X_train, y_train))"
   ]
  }
 ],
 "metadata": {
  "kernelspec": {
   "display_name": "304",
   "language": "python",
   "name": "python3"
  },
  "language_info": {
   "codemirror_mode": {
    "name": "ipython",
    "version": 3
   },
   "file_extension": ".py",
   "mimetype": "text/x-python",
   "name": "python",
   "nbconvert_exporter": "python",
   "pygments_lexer": "ipython3",
   "version": "3.12.11"
  }
 },
 "nbformat": 4,
 "nbformat_minor": 5
}
